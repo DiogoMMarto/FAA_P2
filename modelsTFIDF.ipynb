{
 "cells": [
  {
   "cell_type": "code",
   "execution_count": 3,
   "metadata": {},
   "outputs": [],
   "source": [
    "from helper import *"
   ]
  },
  {
   "cell_type": "code",
   "execution_count": 4,
   "metadata": {},
   "outputs": [
    {
     "name": "stdout",
     "output_type": "stream",
     "text": [
      "(5572, 7480)\n"
     ]
    }
   ],
   "source": [
    "data = pd.read_csv(\"data.csv\")\n",
    "print(data.shape)"
   ]
  },
  {
   "cell_type": "code",
   "execution_count": 5,
   "metadata": {},
   "outputs": [
    {
     "name": "stdout",
     "output_type": "stream",
     "text": [
      "Index(['class', 'text', 'No_of_Characters', 'No_of_Words', 'No_of_sentence',\n",
      "       'text_clean', 'y', '00', '000', '000pes',\n",
      "       ...\n",
      "       'ìï', 'ó_', 'û_thanks', 'ûªm', 'ûªt', 'ûªve', 'ûï', 'ûïharry', 'ûò',\n",
      "       'ûówell'],\n",
      "      dtype='object', length=7480)\n"
     ]
    }
   ],
   "source": [
    "print(data.columns)"
   ]
  },
  {
   "cell_type": "code",
   "execution_count": 6,
   "metadata": {},
   "outputs": [
    {
     "name": "stdout",
     "output_type": "stream",
     "text": [
      "(5572, 7473) (5572,)\n",
      "(4457, 7473) (4457,)\n",
      "(1115, 7473) (1115,)\n"
     ]
    }
   ],
   "source": [
    "y = data[\"y\"]\n",
    "X = data.drop(columns=['class', 'text', 'No_of_Characters', 'No_of_Words', 'No_of_sentence', 'text_clean' ,'y'])\n",
    "print(X.shape, y.shape)\n",
    "\n",
    "X_train, X_test, y_train, y_test = train_test_split(X, y, test_size=TEST_SPLIT, random_state=42)\n",
    "print(X_train.shape, y_train.shape)\n",
    "print(X_test.shape, y_test.shape)"
   ]
  },
  {
   "cell_type": "code",
   "execution_count": 7,
   "metadata": {},
   "outputs": [
    {
     "name": "stdout",
     "output_type": "stream",
     "text": [
      "Grid size: 12\n"
     ]
    },
    {
     "name": "stderr",
     "output_type": "stream",
     "text": [
      "c:\\Users\\D\\AppData\\Local\\Programs\\Python\\Python312\\Lib\\site-packages\\sklearn\\metrics\\_classification.py:1509: UndefinedMetricWarning: Precision is ill-defined and being set to 0.0 in labels with no predicted samples. Use `zero_division` parameter to control this behavior.\n",
      "  _warn_prf(average, modifier, f\"{metric.capitalize()} is\", len(result))\n",
      "c:\\Users\\D\\AppData\\Local\\Programs\\Python\\Python312\\Lib\\site-packages\\sklearn\\metrics\\_classification.py:1509: UndefinedMetricWarning: Precision is ill-defined and being set to 0.0 in labels with no predicted samples. Use `zero_division` parameter to control this behavior.\n",
      "  _warn_prf(average, modifier, f\"{metric.capitalize()} is\", len(result))\n",
      "c:\\Users\\D\\AppData\\Local\\Programs\\Python\\Python312\\Lib\\site-packages\\sklearn\\metrics\\_classification.py:1509: UndefinedMetricWarning: Precision is ill-defined and being set to 0.0 in labels with no predicted samples. Use `zero_division` parameter to control this behavior.\n",
      "  _warn_prf(average, modifier, f\"{metric.capitalize()} is\", len(result))\n"
     ]
    },
    {
     "name": "stdout",
     "output_type": "stream",
     "text": [
      "Model: Model0\n",
      "Parameters: {'regularization': 'l2', 'solver': 'lbfgs', 'C': 0.01, 'name': 'Model0'}\n",
      "Metrics: {'confusion_matrix': array([[965,   0],\n",
      "       [150,   0]], dtype=int64), 'classification_report': {'0': {'precision': 0.8654708520179372, 'recall': 1.0, 'f1-score': 0.9278846153846154, 'support': 965.0}, '1': {'precision': 0.0, 'recall': 0.0, 'f1-score': 0.0, 'support': 150.0}, 'accuracy': 0.8654708520179372, 'macro avg': {'precision': 0.4327354260089686, 'recall': 0.5, 'f1-score': 0.4639423076923077, 'support': 1115.0}, 'weighted avg': {'precision': 0.7490397956926541, 'recall': 0.8654708520179372, 'f1-score': 0.8030570886512591, 'support': 1115.0}}, 'roc_auc': 0.5, 'fpr': array([0., 1.]), 'tpr': array([0., 1.]), 'history': []}\n",
      "Model: Model1\n",
      "Parameters: {'regularization': 'l2', 'solver': 'lbfgs', 'C': 0.1, 'name': 'Model1'}\n",
      "Metrics: {'confusion_matrix': array([[965,   0],\n",
      "       [149,   1]], dtype=int64), 'classification_report': {'0': {'precision': 0.8662477558348295, 'recall': 1.0, 'f1-score': 0.9283309283309283, 'support': 965.0}, '1': {'precision': 1.0, 'recall': 0.006666666666666667, 'f1-score': 0.013245033112582781, 'support': 150.0}, 'accuracy': 0.8663677130044843, 'macro avg': {'precision': 0.9331238779174147, 'recall': 0.5033333333333333, 'f1-score': 0.47078798072175554, 'support': 1115.0}, 'weighted avg': {'precision': 0.8842413312830587, 'recall': 0.8663677130044843, 'f1-score': 0.8052252025168011, 'support': 1115.0}}, 'roc_auc': 0.5033333333333333, 'fpr': array([0., 0., 1.]), 'tpr': array([0.        , 0.00666667, 1.        ]), 'history': []}\n",
      "Model: Model2\n",
      "Parameters: {'regularization': 'l2', 'solver': 'lbfgs', 'C': 1.0, 'name': 'Model2'}\n",
      "Metrics: {'confusion_matrix': array([[961,   4],\n",
      "       [ 53,  97]], dtype=int64), 'classification_report': {'0': {'precision': 0.9477317554240631, 'recall': 0.9958549222797928, 'f1-score': 0.9711975745325923, 'support': 965.0}, '1': {'precision': 0.9603960396039604, 'recall': 0.6466666666666666, 'f1-score': 0.7729083665338645, 'support': 150.0}, 'accuracy': 0.9488789237668162, 'macro avg': {'precision': 0.9540638975140117, 'recall': 0.8212607944732297, 'f1-score': 0.8720529705332284, 'support': 1115.0}, 'weighted avg': {'precision': 0.9494354707845873, 'recall': 0.9488789237668162, 'f1-score': 0.9445218963264854, 'support': 1115.0}}, 'roc_auc': 0.8212607944732296, 'fpr': array([0.        , 0.00414508, 1.        ]), 'tpr': array([0.        , 0.64666667, 1.        ]), 'history': []}\n",
      "Model: Model3\n",
      "Parameters: {'regularization': 'l2', 'solver': 'lbfgs', 'C': 0.5, 'name': 'Model3'}\n",
      "Metrics: {'confusion_matrix': array([[961,   4],\n",
      "       [ 83,  67]], dtype=int64), 'classification_report': {'0': {'precision': 0.9204980842911877, 'recall': 0.9958549222797928, 'f1-score': 0.9566948730711797, 'support': 965.0}, '1': {'precision': 0.9436619718309859, 'recall': 0.44666666666666666, 'f1-score': 0.6063348416289592, 'support': 150.0}, 'accuracy': 0.9219730941704036, 'macro avg': {'precision': 0.9320800280610868, 'recall': 0.7212607944732297, 'f1-score': 0.7815148573500694, 'support': 1115.0}, 'weighted avg': {'precision': 0.923614302345869, 'recall': 0.9219730941704036, 'f1-score': 0.909561236554289, 'support': 1115.0}}, 'roc_auc': 0.7212607944732298, 'fpr': array([0.        , 0.00414508, 1.        ]), 'tpr': array([0.        , 0.44666667, 1.        ]), 'history': []}\n",
      "Model: Model4\n",
      "Parameters: {'regularization': 'l2', 'solver': 'lbfgs', 'C': 10.0, 'name': 'Model4'}\n",
      "Metrics: {'confusion_matrix': array([[960,   5],\n",
      "       [ 25, 125]], dtype=int64), 'classification_report': {'0': {'precision': 0.9746192893401016, 'recall': 0.9948186528497409, 'f1-score': 0.9846153846153847, 'support': 965.0}, '1': {'precision': 0.9615384615384616, 'recall': 0.8333333333333334, 'f1-score': 0.8928571428571429, 'support': 150.0}, 'accuracy': 0.9730941704035875, 'macro avg': {'precision': 0.9680788754392815, 'recall': 0.9140759930915372, 'f1-score': 0.9387362637362637, 'support': 1115.0}, 'weighted avg': {'precision': 0.9728595367210469, 'recall': 0.9730941704035875, 'f1-score': 0.9722712265313164, 'support': 1115.0}}, 'roc_auc': 0.9140759930915372, 'fpr': array([0.        , 0.00518135, 1.        ]), 'tpr': array([0.        , 0.83333333, 1.        ]), 'history': []}\n",
      "Model: Model5\n",
      "Parameters: {'regularization': 'l2', 'solver': 'lbfgs', 'C': 100.0, 'name': 'Model5'}\n",
      "Metrics: {'confusion_matrix': array([[959,   6],\n",
      "       [ 24, 126]], dtype=int64), 'classification_report': {'0': {'precision': 0.9755849440488301, 'recall': 0.9937823834196892, 'f1-score': 0.9845995893223819, 'support': 965.0}, '1': {'precision': 0.9545454545454546, 'recall': 0.84, 'f1-score': 0.8936170212765957, 'support': 150.0}, 'accuracy': 0.9730941704035875, 'macro avg': {'precision': 0.9650651992971424, 'recall': 0.9168911917098446, 'f1-score': 0.9391083052994889, 'support': 1115.0}, 'weighted avg': {'precision': 0.9727545194519635, 'recall': 0.9730941704035875, 'f1-score': 0.9723597819619624, 'support': 1115.0}}, 'roc_auc': 0.9168911917098445, 'fpr': array([0.        , 0.00621762, 1.        ]), 'tpr': array([0.  , 0.84, 1.  ]), 'history': []}\n",
      "Model: Model6\n",
      "Parameters: {'regularization': 'l2', 'solver': 'lbfgs', 'C': 1000.0, 'name': 'Model6'}\n",
      "Metrics: {'confusion_matrix': array([[960,   5],\n",
      "       [ 19, 131]], dtype=int64), 'classification_report': {'0': {'precision': 0.9805924412665986, 'recall': 0.9948186528497409, 'f1-score': 0.9876543209876543, 'support': 965.0}, '1': {'precision': 0.9632352941176471, 'recall': 0.8733333333333333, 'f1-score': 0.916083916083916, 'support': 150.0}, 'accuracy': 0.97847533632287, 'macro avg': {'precision': 0.9719138676921228, 'recall': 0.9340759930915371, 'f1-score': 0.9518691185357852, 'support': 1115.0}, 'weighted avg': {'precision': 0.9782573990492509, 'recall': 0.97847533632287, 'f1-score': 0.9780260153952233, 'support': 1115.0}}, 'roc_auc': 0.9340759930915371, 'fpr': array([0.        , 0.00518135, 1.        ]), 'tpr': array([0.        , 0.87333333, 1.        ]), 'history': []}\n",
      "Model: Model7\n",
      "Parameters: {'regularization': 'l2', 'solver': 'lbfgs', 'C': 10000.0, 'name': 'Model7'}\n",
      "Metrics: {'confusion_matrix': array([[960,   5],\n",
      "       [ 19, 131]], dtype=int64), 'classification_report': {'0': {'precision': 0.9805924412665986, 'recall': 0.9948186528497409, 'f1-score': 0.9876543209876543, 'support': 965.0}, '1': {'precision': 0.9632352941176471, 'recall': 0.8733333333333333, 'f1-score': 0.916083916083916, 'support': 150.0}, 'accuracy': 0.97847533632287, 'macro avg': {'precision': 0.9719138676921228, 'recall': 0.9340759930915371, 'f1-score': 0.9518691185357852, 'support': 1115.0}, 'weighted avg': {'precision': 0.9782573990492509, 'recall': 0.97847533632287, 'f1-score': 0.9780260153952233, 'support': 1115.0}}, 'roc_auc': 0.9340759930915371, 'fpr': array([0.        , 0.00518135, 1.        ]), 'tpr': array([0.        , 0.87333333, 1.        ]), 'history': []}\n",
      "Model: Model8\n",
      "Parameters: {'regularization': 'l2', 'solver': 'lbfgs', 'C': 100000.0, 'name': 'Model8'}\n",
      "Metrics: {'confusion_matrix': array([[960,   5],\n",
      "       [ 18, 132]], dtype=int64), 'classification_report': {'0': {'precision': 0.9815950920245399, 'recall': 0.9948186528497409, 'f1-score': 0.9881626351003603, 'support': 965.0}, '1': {'precision': 0.9635036496350365, 'recall': 0.88, 'f1-score': 0.9198606271777003, 'support': 150.0}, 'accuracy': 0.979372197309417, 'macro avg': {'precision': 0.9725493708297882, 'recall': 0.9374093264248704, 'f1-score': 0.9540116311390303, 'support': 1115.0}, 'weighted avg': {'precision': 0.9791612656941134, 'recall': 0.979372197309417, 'f1-score': 0.9789740241690607, 'support': 1115.0}}, 'roc_auc': 0.9374093264248704, 'fpr': array([0.        , 0.00518135, 1.        ]), 'tpr': array([0.  , 0.88, 1.  ]), 'history': []}\n",
      "Model: Model9\n",
      "Parameters: {'regularization': 'l2', 'solver': 'lbfgs', 'C': 1000000.0, 'name': 'Model9'}\n",
      "Metrics: {'confusion_matrix': array([[960,   5],\n",
      "       [ 18, 132]], dtype=int64), 'classification_report': {'0': {'precision': 0.9815950920245399, 'recall': 0.9948186528497409, 'f1-score': 0.9881626351003603, 'support': 965.0}, '1': {'precision': 0.9635036496350365, 'recall': 0.88, 'f1-score': 0.9198606271777003, 'support': 150.0}, 'accuracy': 0.979372197309417, 'macro avg': {'precision': 0.9725493708297882, 'recall': 0.9374093264248704, 'f1-score': 0.9540116311390303, 'support': 1115.0}, 'weighted avg': {'precision': 0.9791612656941134, 'recall': 0.979372197309417, 'f1-score': 0.9789740241690607, 'support': 1115.0}}, 'roc_auc': 0.9374093264248704, 'fpr': array([0.        , 0.00518135, 1.        ]), 'tpr': array([0.  , 0.88, 1.  ]), 'history': []}\n",
      "Model: Model10\n",
      "Parameters: {'regularization': 'l2', 'solver': 'lbfgs', 'C': 10000000.0, 'name': 'Model10'}\n",
      "Metrics: {'confusion_matrix': array([[960,   5],\n",
      "       [ 18, 132]], dtype=int64), 'classification_report': {'0': {'precision': 0.9815950920245399, 'recall': 0.9948186528497409, 'f1-score': 0.9881626351003603, 'support': 965.0}, '1': {'precision': 0.9635036496350365, 'recall': 0.88, 'f1-score': 0.9198606271777003, 'support': 150.0}, 'accuracy': 0.979372197309417, 'macro avg': {'precision': 0.9725493708297882, 'recall': 0.9374093264248704, 'f1-score': 0.9540116311390303, 'support': 1115.0}, 'weighted avg': {'precision': 0.9791612656941134, 'recall': 0.979372197309417, 'f1-score': 0.9789740241690607, 'support': 1115.0}}, 'roc_auc': 0.9374093264248704, 'fpr': array([0.        , 0.00518135, 1.        ]), 'tpr': array([0.  , 0.88, 1.  ]), 'history': []}\n",
      "Model: Model11\n",
      "Parameters: {'regularization': 'l2', 'solver': 'lbfgs', 'C': 100000000.0, 'name': 'Model11'}\n",
      "Metrics: {'confusion_matrix': array([[960,   5],\n",
      "       [ 18, 132]], dtype=int64), 'classification_report': {'0': {'precision': 0.9815950920245399, 'recall': 0.9948186528497409, 'f1-score': 0.9881626351003603, 'support': 965.0}, '1': {'precision': 0.9635036496350365, 'recall': 0.88, 'f1-score': 0.9198606271777003, 'support': 150.0}, 'accuracy': 0.979372197309417, 'macro avg': {'precision': 0.9725493708297882, 'recall': 0.9374093264248704, 'f1-score': 0.9540116311390303, 'support': 1115.0}, 'weighted avg': {'precision': 0.9791612656941134, 'recall': 0.979372197309417, 'f1-score': 0.9789740241690607, 'support': 1115.0}}, 'roc_auc': 0.9374093264248704, 'fpr': array([0.        , 0.00518135, 1.        ]), 'tpr': array([0.  , 0.88, 1.  ]), 'history': []}\n"
     ]
    }
   ],
   "source": [
    "def make_model(\n",
    "                name,\n",
    "                regularization,\n",
    "                solver,\n",
    "                C\n",
    "            ):\n",
    "    model = LogisticRegression(\n",
    "        penalty=regularization,\n",
    "        solver=solver,\n",
    "        C=C,\n",
    "        max_iter=1000,\n",
    "        random_state=42,\n",
    "        verbose=1\n",
    "    )\n",
    "    return model\n",
    "\n",
    "param_grid = {\n",
    "    'regularization' : [\"l2\"],\n",
    "    'solver': ['lbfgs'],\n",
    "    'C' : [10e-3,10e-2,10e-1,0.5,10e0,10e1,10e2,10e3,10e4,10e5,10e6,10e7]\n",
    "}\n",
    "\n",
    "def train_f(model:LogisticRegression,X_train,y):\n",
    "    model = model.fit(X_train,y)\n",
    "    history = []\n",
    "    return model , history \n",
    "\n",
    "r = grid_search(param_grid, make_model, X_train, y_train , X_test , y_test, train_f )"
   ]
  },
  {
   "cell_type": "code",
   "execution_count": 8,
   "metadata": {},
   "outputs": [
    {
     "name": "stdout",
     "output_type": "stream",
     "text": [
      "[({'C': 100000.0, 'name': 'Model8', 'regularization': 'l2', 'solver': 'lbfgs'},\n",
      "  0.979372197309417),\n",
      " ({'C': 1000000.0, 'name': 'Model9', 'regularization': 'l2', 'solver': 'lbfgs'},\n",
      "  0.979372197309417),\n",
      " ({'C': 10000000.0,\n",
      "   'name': 'Model10',\n",
      "   'regularization': 'l2',\n",
      "   'solver': 'lbfgs'},\n",
      "  0.979372197309417),\n",
      " ({'C': 100000000.0,\n",
      "   'name': 'Model11',\n",
      "   'regularization': 'l2',\n",
      "   'solver': 'lbfgs'},\n",
      "  0.979372197309417),\n",
      " ({'C': 1000.0, 'name': 'Model6', 'regularization': 'l2', 'solver': 'lbfgs'},\n",
      "  0.97847533632287),\n",
      " ({'C': 10000.0, 'name': 'Model7', 'regularization': 'l2', 'solver': 'lbfgs'},\n",
      "  0.97847533632287),\n",
      " ({'C': 10.0, 'name': 'Model4', 'regularization': 'l2', 'solver': 'lbfgs'},\n",
      "  0.9730941704035875),\n",
      " ({'C': 100.0, 'name': 'Model5', 'regularization': 'l2', 'solver': 'lbfgs'},\n",
      "  0.9730941704035875),\n",
      " ({'C': 1.0, 'name': 'Model2', 'regularization': 'l2', 'solver': 'lbfgs'},\n",
      "  0.9488789237668162),\n",
      " ({'C': 0.5, 'name': 'Model3', 'regularization': 'l2', 'solver': 'lbfgs'},\n",
      "  0.9219730941704036),\n",
      " ({'C': 0.1, 'name': 'Model1', 'regularization': 'l2', 'solver': 'lbfgs'},\n",
      "  0.8663677130044843),\n",
      " ({'C': 0.01, 'name': 'Model0', 'regularization': 'l2', 'solver': 'lbfgs'},\n",
      "  0.8654708520179372)]\n"
     ]
    }
   ],
   "source": [
    "from pprint import pprint\n",
    "\n",
    "r.sort(key=lambda x: x[2][\"classification_report\"][\"accuracy\"], reverse=True)\n",
    "pprint([ (params , metrics[\"classification_report\"][\"accuracy\"]) for model, params, metrics in r])"
   ]
  },
  {
   "cell_type": "code",
   "execution_count": 9,
   "metadata": {},
   "outputs": [
    {
     "data": {
      "image/png": "[encoded data removed]",
      "text/plain": [
       "<Figure size 640x480 with 1 Axes>"
      ]
     },
     "metadata": {},
     "output_type": "display_data"
    }
   ],
   "source": [
    "import matplotlib.pyplot as plt\n",
    "points = [(param[\"C\"], metrics[\"classification_report\"][\"accuracy\"]) for _ , param , metrics in r]\n",
    "plt.scatter(*zip(*points))\n",
    "plt.xscale('log')\n",
    "plt.xlabel('C')\n",
    "plt.ylim([0.8,1])\n",
    "plt.ylabel('Recall')\n",
    "plt.grid()\n",
    "plt.show()\n"
   ]
  },
  {
   "cell_type": "code",
   "execution_count": 10,
   "metadata": {},
   "outputs": [
    {
     "name": "stdout",
     "output_type": "stream",
     "text": [
      "Grid size: 27\n",
      "Model: Model0\n",
      "Parameters: {'max_depth': 5, 'n_estimators': 10, 'max_features': 1, 'name': 'Model0'}\n",
      "Metrics: {'confusion_matrix': array([[965,   0],\n",
      "       [150,   0]], dtype=int64), 'classification_report': {'0': {'precision': 0.8654708520179372, 'recall': 1.0, 'f1-score': 0.9278846153846154, 'support': 965.0}, '1': {'precision': 0.0, 'recall': 0.0, 'f1-score': 0.0, 'support': 150.0}, 'accuracy': 0.8654708520179372, 'macro avg': {'precision': 0.4327354260089686, 'recall': 0.5, 'f1-score': 0.4639423076923077, 'support': 1115.0}, 'weighted avg': {'precision': 0.7490397956926541, 'recall': 0.8654708520179372, 'f1-score': 0.8030570886512591, 'support': 1115.0}}, 'roc_auc': 0.5, 'fpr': array([0., 1.]), 'tpr': array([0., 1.]), 'history': []}\n"
     ]
    },
    {
     "name": "stderr",
     "output_type": "stream",
     "text": [
      "c:\\Users\\D\\AppData\\Local\\Programs\\Python\\Python312\\Lib\\site-packages\\sklearn\\metrics\\_classification.py:1509: UndefinedMetricWarning: Precision is ill-defined and being set to 0.0 in labels with no predicted samples. Use `zero_division` parameter to control this behavior.\n",
      "  _warn_prf(average, modifier, f\"{metric.capitalize()} is\", len(result))\n",
      "c:\\Users\\D\\AppData\\Local\\Programs\\Python\\Python312\\Lib\\site-packages\\sklearn\\metrics\\_classification.py:1509: UndefinedMetricWarning: Precision is ill-defined and being set to 0.0 in labels with no predicted samples. Use `zero_division` parameter to control this behavior.\n",
      "  _warn_prf(average, modifier, f\"{metric.capitalize()} is\", len(result))\n",
      "c:\\Users\\D\\AppData\\Local\\Programs\\Python\\Python312\\Lib\\site-packages\\sklearn\\metrics\\_classification.py:1509: UndefinedMetricWarning: Precision is ill-defined and being set to 0.0 in labels with no predicted samples. Use `zero_division` parameter to control this behavior.\n",
      "  _warn_prf(average, modifier, f\"{metric.capitalize()} is\", len(result))\n",
      "c:\\Users\\D\\AppData\\Local\\Programs\\Python\\Python312\\Lib\\site-packages\\sklearn\\metrics\\_classification.py:1509: UndefinedMetricWarning: Precision is ill-defined and being set to 0.0 in labels with no predicted samples. Use `zero_division` parameter to control this behavior.\n",
      "  _warn_prf(average, modifier, f\"{metric.capitalize()} is\", len(result))\n",
      "c:\\Users\\D\\AppData\\Local\\Programs\\Python\\Python312\\Lib\\site-packages\\sklearn\\metrics\\_classification.py:1509: UndefinedMetricWarning: Precision is ill-defined and being set to 0.0 in labels with no predicted samples. Use `zero_division` parameter to control this behavior.\n",
      "  _warn_prf(average, modifier, f\"{metric.capitalize()} is\", len(result))\n",
      "c:\\Users\\D\\AppData\\Local\\Programs\\Python\\Python312\\Lib\\site-packages\\sklearn\\metrics\\_classification.py:1509: UndefinedMetricWarning: Precision is ill-defined and being set to 0.0 in labels with no predicted samples. Use `zero_division` parameter to control this behavior.\n",
      "  _warn_prf(average, modifier, f\"{metric.capitalize()} is\", len(result))\n"
     ]
    },
    {
     "name": "stdout",
     "output_type": "stream",
     "text": [
      "Model: Model1\n",
      "Parameters: {'max_depth': 10, 'n_estimators': 10, 'max_features': 1, 'name': 'Model1'}\n",
      "Metrics: {'confusion_matrix': array([[965,   0],\n",
      "       [150,   0]], dtype=int64), 'classification_report': {'0': {'precision': 0.8654708520179372, 'recall': 1.0, 'f1-score': 0.9278846153846154, 'support': 965.0}, '1': {'precision': 0.0, 'recall': 0.0, 'f1-score': 0.0, 'support': 150.0}, 'accuracy': 0.8654708520179372, 'macro avg': {'precision': 0.4327354260089686, 'recall': 0.5, 'f1-score': 0.4639423076923077, 'support': 1115.0}, 'weighted avg': {'precision': 0.7490397956926541, 'recall': 0.8654708520179372, 'f1-score': 0.8030570886512591, 'support': 1115.0}}, 'roc_auc': 0.5, 'fpr': array([0., 1.]), 'tpr': array([0., 1.]), 'history': []}\n",
      "Model: Model2\n",
      "Parameters: {'max_depth': 15, 'n_estimators': 10, 'max_features': 1, 'name': 'Model2'}\n",
      "Metrics: {'confusion_matrix': array([[965,   0],\n",
      "       [150,   0]], dtype=int64), 'classification_report': {'0': {'precision': 0.8654708520179372, 'recall': 1.0, 'f1-score': 0.9278846153846154, 'support': 965.0}, '1': {'precision': 0.0, 'recall': 0.0, 'f1-score': 0.0, 'support': 150.0}, 'accuracy': 0.8654708520179372, 'macro avg': {'precision': 0.4327354260089686, 'recall': 0.5, 'f1-score': 0.4639423076923077, 'support': 1115.0}, 'weighted avg': {'precision': 0.7490397956926541, 'recall': 0.8654708520179372, 'f1-score': 0.8030570886512591, 'support': 1115.0}}, 'roc_auc': 0.5, 'fpr': array([0., 1.]), 'tpr': array([0., 1.]), 'history': []}\n"
     ]
    },
    {
     "name": "stderr",
     "output_type": "stream",
     "text": [
      "c:\\Users\\D\\AppData\\Local\\Programs\\Python\\Python312\\Lib\\site-packages\\sklearn\\metrics\\_classification.py:1509: UndefinedMetricWarning: Precision is ill-defined and being set to 0.0 in labels with no predicted samples. Use `zero_division` parameter to control this behavior.\n",
      "  _warn_prf(average, modifier, f\"{metric.capitalize()} is\", len(result))\n",
      "c:\\Users\\D\\AppData\\Local\\Programs\\Python\\Python312\\Lib\\site-packages\\sklearn\\metrics\\_classification.py:1509: UndefinedMetricWarning: Precision is ill-defined and being set to 0.0 in labels with no predicted samples. Use `zero_division` parameter to control this behavior.\n",
      "  _warn_prf(average, modifier, f\"{metric.capitalize()} is\", len(result))\n",
      "c:\\Users\\D\\AppData\\Local\\Programs\\Python\\Python312\\Lib\\site-packages\\sklearn\\metrics\\_classification.py:1509: UndefinedMetricWarning: Precision is ill-defined and being set to 0.0 in labels with no predicted samples. Use `zero_division` parameter to control this behavior.\n",
      "  _warn_prf(average, modifier, f\"{metric.capitalize()} is\", len(result))\n",
      "c:\\Users\\D\\AppData\\Local\\Programs\\Python\\Python312\\Lib\\site-packages\\sklearn\\metrics\\_classification.py:1509: UndefinedMetricWarning: Precision is ill-defined and being set to 0.0 in labels with no predicted samples. Use `zero_division` parameter to control this behavior.\n",
      "  _warn_prf(average, modifier, f\"{metric.capitalize()} is\", len(result))\n",
      "c:\\Users\\D\\AppData\\Local\\Programs\\Python\\Python312\\Lib\\site-packages\\sklearn\\metrics\\_classification.py:1509: UndefinedMetricWarning: Precision is ill-defined and being set to 0.0 in labels with no predicted samples. Use `zero_division` parameter to control this behavior.\n",
      "  _warn_prf(average, modifier, f\"{metric.capitalize()} is\", len(result))\n",
      "c:\\Users\\D\\AppData\\Local\\Programs\\Python\\Python312\\Lib\\site-packages\\sklearn\\metrics\\_classification.py:1509: UndefinedMetricWarning: Precision is ill-defined and being set to 0.0 in labels with no predicted samples. Use `zero_division` parameter to control this behavior.\n",
      "  _warn_prf(average, modifier, f\"{metric.capitalize()} is\", len(result))\n"
     ]
    },
    {
     "name": "stdout",
     "output_type": "stream",
     "text": [
      "Model: Model3\n",
      "Parameters: {'max_depth': 5, 'n_estimators': 20, 'max_features': 1, 'name': 'Model3'}\n",
      "Metrics: {'confusion_matrix': array([[965,   0],\n",
      "       [150,   0]], dtype=int64), 'classification_report': {'0': {'precision': 0.8654708520179372, 'recall': 1.0, 'f1-score': 0.9278846153846154, 'support': 965.0}, '1': {'precision': 0.0, 'recall': 0.0, 'f1-score': 0.0, 'support': 150.0}, 'accuracy': 0.8654708520179372, 'macro avg': {'precision': 0.4327354260089686, 'recall': 0.5, 'f1-score': 0.4639423076923077, 'support': 1115.0}, 'weighted avg': {'precision': 0.7490397956926541, 'recall': 0.8654708520179372, 'f1-score': 0.8030570886512591, 'support': 1115.0}}, 'roc_auc': 0.5, 'fpr': array([0., 1.]), 'tpr': array([0., 1.]), 'history': []}\n",
      "Model: Model4\n",
      "Parameters: {'max_depth': 10, 'n_estimators': 20, 'max_features': 1, 'name': 'Model4'}\n",
      "Metrics: {'confusion_matrix': array([[965,   0],\n",
      "       [150,   0]], dtype=int64), 'classification_report': {'0': {'precision': 0.8654708520179372, 'recall': 1.0, 'f1-score': 0.9278846153846154, 'support': 965.0}, '1': {'precision': 0.0, 'recall': 0.0, 'f1-score': 0.0, 'support': 150.0}, 'accuracy': 0.8654708520179372, 'macro avg': {'precision': 0.4327354260089686, 'recall': 0.5, 'f1-score': 0.4639423076923077, 'support': 1115.0}, 'weighted avg': {'precision': 0.7490397956926541, 'recall': 0.8654708520179372, 'f1-score': 0.8030570886512591, 'support': 1115.0}}, 'roc_auc': 0.5, 'fpr': array([0., 1.]), 'tpr': array([0., 1.]), 'history': []}\n"
     ]
    },
    {
     "name": "stderr",
     "output_type": "stream",
     "text": [
      "c:\\Users\\D\\AppData\\Local\\Programs\\Python\\Python312\\Lib\\site-packages\\sklearn\\metrics\\_classification.py:1509: UndefinedMetricWarning: Precision is ill-defined and being set to 0.0 in labels with no predicted samples. Use `zero_division` parameter to control this behavior.\n",
      "  _warn_prf(average, modifier, f\"{metric.capitalize()} is\", len(result))\n",
      "c:\\Users\\D\\AppData\\Local\\Programs\\Python\\Python312\\Lib\\site-packages\\sklearn\\metrics\\_classification.py:1509: UndefinedMetricWarning: Precision is ill-defined and being set to 0.0 in labels with no predicted samples. Use `zero_division` parameter to control this behavior.\n",
      "  _warn_prf(average, modifier, f\"{metric.capitalize()} is\", len(result))\n",
      "c:\\Users\\D\\AppData\\Local\\Programs\\Python\\Python312\\Lib\\site-packages\\sklearn\\metrics\\_classification.py:1509: UndefinedMetricWarning: Precision is ill-defined and being set to 0.0 in labels with no predicted samples. Use `zero_division` parameter to control this behavior.\n",
      "  _warn_prf(average, modifier, f\"{metric.capitalize()} is\", len(result))\n",
      "c:\\Users\\D\\AppData\\Local\\Programs\\Python\\Python312\\Lib\\site-packages\\sklearn\\metrics\\_classification.py:1509: UndefinedMetricWarning: Precision is ill-defined and being set to 0.0 in labels with no predicted samples. Use `zero_division` parameter to control this behavior.\n",
      "  _warn_prf(average, modifier, f\"{metric.capitalize()} is\", len(result))\n",
      "c:\\Users\\D\\AppData\\Local\\Programs\\Python\\Python312\\Lib\\site-packages\\sklearn\\metrics\\_classification.py:1509: UndefinedMetricWarning: Precision is ill-defined and being set to 0.0 in labels with no predicted samples. Use `zero_division` parameter to control this behavior.\n",
      "  _warn_prf(average, modifier, f\"{metric.capitalize()} is\", len(result))\n",
      "c:\\Users\\D\\AppData\\Local\\Programs\\Python\\Python312\\Lib\\site-packages\\sklearn\\metrics\\_classification.py:1509: UndefinedMetricWarning: Precision is ill-defined and being set to 0.0 in labels with no predicted samples. Use `zero_division` parameter to control this behavior.\n",
      "  _warn_prf(average, modifier, f\"{metric.capitalize()} is\", len(result))\n"
     ]
    },
    {
     "name": "stdout",
     "output_type": "stream",
     "text": [
      "Model: Model5\n",
      "Parameters: {'max_depth': 15, 'n_estimators': 20, 'max_features': 1, 'name': 'Model5'}\n",
      "Metrics: {'confusion_matrix': array([[965,   0],\n",
      "       [150,   0]], dtype=int64), 'classification_report': {'0': {'precision': 0.8654708520179372, 'recall': 1.0, 'f1-score': 0.9278846153846154, 'support': 965.0}, '1': {'precision': 0.0, 'recall': 0.0, 'f1-score': 0.0, 'support': 150.0}, 'accuracy': 0.8654708520179372, 'macro avg': {'precision': 0.4327354260089686, 'recall': 0.5, 'f1-score': 0.4639423076923077, 'support': 1115.0}, 'weighted avg': {'precision': 0.7490397956926541, 'recall': 0.8654708520179372, 'f1-score': 0.8030570886512591, 'support': 1115.0}}, 'roc_auc': 0.5, 'fpr': array([0., 1.]), 'tpr': array([0., 1.]), 'history': []}\n",
      "Model: Model6\n",
      "Parameters: {'max_depth': 5, 'n_estimators': 30, 'max_features': 1, 'name': 'Model6'}\n",
      "Metrics: {'confusion_matrix': array([[965,   0],\n",
      "       [150,   0]], dtype=int64), 'classification_report': {'0': {'precision': 0.8654708520179372, 'recall': 1.0, 'f1-score': 0.9278846153846154, 'support': 965.0}, '1': {'precision': 0.0, 'recall': 0.0, 'f1-score': 0.0, 'support': 150.0}, 'accuracy': 0.8654708520179372, 'macro avg': {'precision': 0.4327354260089686, 'recall': 0.5, 'f1-score': 0.4639423076923077, 'support': 1115.0}, 'weighted avg': {'precision': 0.7490397956926541, 'recall': 0.8654708520179372, 'f1-score': 0.8030570886512591, 'support': 1115.0}}, 'roc_auc': 0.5, 'fpr': array([0., 1.]), 'tpr': array([0., 1.]), 'history': []}\n"
     ]
    },
    {
     "name": "stderr",
     "output_type": "stream",
     "text": [
      "c:\\Users\\D\\AppData\\Local\\Programs\\Python\\Python312\\Lib\\site-packages\\sklearn\\metrics\\_classification.py:1509: UndefinedMetricWarning: Precision is ill-defined and being set to 0.0 in labels with no predicted samples. Use `zero_division` parameter to control this behavior.\n",
      "  _warn_prf(average, modifier, f\"{metric.capitalize()} is\", len(result))\n",
      "c:\\Users\\D\\AppData\\Local\\Programs\\Python\\Python312\\Lib\\site-packages\\sklearn\\metrics\\_classification.py:1509: UndefinedMetricWarning: Precision is ill-defined and being set to 0.0 in labels with no predicted samples. Use `zero_division` parameter to control this behavior.\n",
      "  _warn_prf(average, modifier, f\"{metric.capitalize()} is\", len(result))\n",
      "c:\\Users\\D\\AppData\\Local\\Programs\\Python\\Python312\\Lib\\site-packages\\sklearn\\metrics\\_classification.py:1509: UndefinedMetricWarning: Precision is ill-defined and being set to 0.0 in labels with no predicted samples. Use `zero_division` parameter to control this behavior.\n",
      "  _warn_prf(average, modifier, f\"{metric.capitalize()} is\", len(result))\n",
      "c:\\Users\\D\\AppData\\Local\\Programs\\Python\\Python312\\Lib\\site-packages\\sklearn\\metrics\\_classification.py:1509: UndefinedMetricWarning: Precision is ill-defined and being set to 0.0 in labels with no predicted samples. Use `zero_division` parameter to control this behavior.\n",
      "  _warn_prf(average, modifier, f\"{metric.capitalize()} is\", len(result))\n",
      "c:\\Users\\D\\AppData\\Local\\Programs\\Python\\Python312\\Lib\\site-packages\\sklearn\\metrics\\_classification.py:1509: UndefinedMetricWarning: Precision is ill-defined and being set to 0.0 in labels with no predicted samples. Use `zero_division` parameter to control this behavior.\n",
      "  _warn_prf(average, modifier, f\"{metric.capitalize()} is\", len(result))\n",
      "c:\\Users\\D\\AppData\\Local\\Programs\\Python\\Python312\\Lib\\site-packages\\sklearn\\metrics\\_classification.py:1509: UndefinedMetricWarning: Precision is ill-defined and being set to 0.0 in labels with no predicted samples. Use `zero_division` parameter to control this behavior.\n",
      "  _warn_prf(average, modifier, f\"{metric.capitalize()} is\", len(result))\n"
     ]
    },
    {
     "name": "stdout",
     "output_type": "stream",
     "text": [
      "Model: Model7\n",
      "Parameters: {'max_depth': 10, 'n_estimators': 30, 'max_features': 1, 'name': 'Model7'}\n",
      "Metrics: {'confusion_matrix': array([[965,   0],\n",
      "       [150,   0]], dtype=int64), 'classification_report': {'0': {'precision': 0.8654708520179372, 'recall': 1.0, 'f1-score': 0.9278846153846154, 'support': 965.0}, '1': {'precision': 0.0, 'recall': 0.0, 'f1-score': 0.0, 'support': 150.0}, 'accuracy': 0.8654708520179372, 'macro avg': {'precision': 0.4327354260089686, 'recall': 0.5, 'f1-score': 0.4639423076923077, 'support': 1115.0}, 'weighted avg': {'precision': 0.7490397956926541, 'recall': 0.8654708520179372, 'f1-score': 0.8030570886512591, 'support': 1115.0}}, 'roc_auc': 0.5, 'fpr': array([0., 1.]), 'tpr': array([0., 1.]), 'history': []}\n",
      "Model: Model8\n",
      "Parameters: {'max_depth': 15, 'n_estimators': 30, 'max_features': 1, 'name': 'Model8'}\n",
      "Metrics: {'confusion_matrix': array([[965,   0],\n",
      "       [150,   0]], dtype=int64), 'classification_report': {'0': {'precision': 0.8654708520179372, 'recall': 1.0, 'f1-score': 0.9278846153846154, 'support': 965.0}, '1': {'precision': 0.0, 'recall': 0.0, 'f1-score': 0.0, 'support': 150.0}, 'accuracy': 0.8654708520179372, 'macro avg': {'precision': 0.4327354260089686, 'recall': 0.5, 'f1-score': 0.4639423076923077, 'support': 1115.0}, 'weighted avg': {'precision': 0.7490397956926541, 'recall': 0.8654708520179372, 'f1-score': 0.8030570886512591, 'support': 1115.0}}, 'roc_auc': 0.5, 'fpr': array([0., 1.]), 'tpr': array([0., 1.]), 'history': []}\n"
     ]
    },
    {
     "name": "stderr",
     "output_type": "stream",
     "text": [
      "c:\\Users\\D\\AppData\\Local\\Programs\\Python\\Python312\\Lib\\site-packages\\sklearn\\metrics\\_classification.py:1509: UndefinedMetricWarning: Precision is ill-defined and being set to 0.0 in labels with no predicted samples. Use `zero_division` parameter to control this behavior.\n",
      "  _warn_prf(average, modifier, f\"{metric.capitalize()} is\", len(result))\n",
      "c:\\Users\\D\\AppData\\Local\\Programs\\Python\\Python312\\Lib\\site-packages\\sklearn\\metrics\\_classification.py:1509: UndefinedMetricWarning: Precision is ill-defined and being set to 0.0 in labels with no predicted samples. Use `zero_division` parameter to control this behavior.\n",
      "  _warn_prf(average, modifier, f\"{metric.capitalize()} is\", len(result))\n",
      "c:\\Users\\D\\AppData\\Local\\Programs\\Python\\Python312\\Lib\\site-packages\\sklearn\\metrics\\_classification.py:1509: UndefinedMetricWarning: Precision is ill-defined and being set to 0.0 in labels with no predicted samples. Use `zero_division` parameter to control this behavior.\n",
      "  _warn_prf(average, modifier, f\"{metric.capitalize()} is\", len(result))\n",
      "c:\\Users\\D\\AppData\\Local\\Programs\\Python\\Python312\\Lib\\site-packages\\sklearn\\metrics\\_classification.py:1509: UndefinedMetricWarning: Precision is ill-defined and being set to 0.0 in labels with no predicted samples. Use `zero_division` parameter to control this behavior.\n",
      "  _warn_prf(average, modifier, f\"{metric.capitalize()} is\", len(result))\n",
      "c:\\Users\\D\\AppData\\Local\\Programs\\Python\\Python312\\Lib\\site-packages\\sklearn\\metrics\\_classification.py:1509: UndefinedMetricWarning: Precision is ill-defined and being set to 0.0 in labels with no predicted samples. Use `zero_division` parameter to control this behavior.\n",
      "  _warn_prf(average, modifier, f\"{metric.capitalize()} is\", len(result))\n",
      "c:\\Users\\D\\AppData\\Local\\Programs\\Python\\Python312\\Lib\\site-packages\\sklearn\\metrics\\_classification.py:1509: UndefinedMetricWarning: Precision is ill-defined and being set to 0.0 in labels with no predicted samples. Use `zero_division` parameter to control this behavior.\n",
      "  _warn_prf(average, modifier, f\"{metric.capitalize()} is\", len(result))\n"
     ]
    },
    {
     "name": "stdout",
     "output_type": "stream",
     "text": [
      "Model: Model9\n",
      "Parameters: {'max_depth': 5, 'n_estimators': 10, 'max_features': 2, 'name': 'Model9'}\n",
      "Metrics: {'confusion_matrix': array([[965,   0],\n",
      "       [150,   0]], dtype=int64), 'classification_report': {'0': {'precision': 0.8654708520179372, 'recall': 1.0, 'f1-score': 0.9278846153846154, 'support': 965.0}, '1': {'precision': 0.0, 'recall': 0.0, 'f1-score': 0.0, 'support': 150.0}, 'accuracy': 0.8654708520179372, 'macro avg': {'precision': 0.4327354260089686, 'recall': 0.5, 'f1-score': 0.4639423076923077, 'support': 1115.0}, 'weighted avg': {'precision': 0.7490397956926541, 'recall': 0.8654708520179372, 'f1-score': 0.8030570886512591, 'support': 1115.0}}, 'roc_auc': 0.5, 'fpr': array([0., 1.]), 'tpr': array([0., 1.]), 'history': []}\n",
      "Model: Model10\n",
      "Parameters: {'max_depth': 10, 'n_estimators': 10, 'max_features': 2, 'name': 'Model10'}\n",
      "Metrics: {'confusion_matrix': array([[965,   0],\n",
      "       [150,   0]], dtype=int64), 'classification_report': {'0': {'precision': 0.8654708520179372, 'recall': 1.0, 'f1-score': 0.9278846153846154, 'support': 965.0}, '1': {'precision': 0.0, 'recall': 0.0, 'f1-score': 0.0, 'support': 150.0}, 'accuracy': 0.8654708520179372, 'macro avg': {'precision': 0.4327354260089686, 'recall': 0.5, 'f1-score': 0.4639423076923077, 'support': 1115.0}, 'weighted avg': {'precision': 0.7490397956926541, 'recall': 0.8654708520179372, 'f1-score': 0.8030570886512591, 'support': 1115.0}}, 'roc_auc': 0.5, 'fpr': array([0., 1.]), 'tpr': array([0., 1.]), 'history': []}\n"
     ]
    },
    {
     "name": "stderr",
     "output_type": "stream",
     "text": [
      "c:\\Users\\D\\AppData\\Local\\Programs\\Python\\Python312\\Lib\\site-packages\\sklearn\\metrics\\_classification.py:1509: UndefinedMetricWarning: Precision is ill-defined and being set to 0.0 in labels with no predicted samples. Use `zero_division` parameter to control this behavior.\n",
      "  _warn_prf(average, modifier, f\"{metric.capitalize()} is\", len(result))\n",
      "c:\\Users\\D\\AppData\\Local\\Programs\\Python\\Python312\\Lib\\site-packages\\sklearn\\metrics\\_classification.py:1509: UndefinedMetricWarning: Precision is ill-defined and being set to 0.0 in labels with no predicted samples. Use `zero_division` parameter to control this behavior.\n",
      "  _warn_prf(average, modifier, f\"{metric.capitalize()} is\", len(result))\n",
      "c:\\Users\\D\\AppData\\Local\\Programs\\Python\\Python312\\Lib\\site-packages\\sklearn\\metrics\\_classification.py:1509: UndefinedMetricWarning: Precision is ill-defined and being set to 0.0 in labels with no predicted samples. Use `zero_division` parameter to control this behavior.\n",
      "  _warn_prf(average, modifier, f\"{metric.capitalize()} is\", len(result))\n",
      "c:\\Users\\D\\AppData\\Local\\Programs\\Python\\Python312\\Lib\\site-packages\\sklearn\\metrics\\_classification.py:1509: UndefinedMetricWarning: Precision is ill-defined and being set to 0.0 in labels with no predicted samples. Use `zero_division` parameter to control this behavior.\n",
      "  _warn_prf(average, modifier, f\"{metric.capitalize()} is\", len(result))\n",
      "c:\\Users\\D\\AppData\\Local\\Programs\\Python\\Python312\\Lib\\site-packages\\sklearn\\metrics\\_classification.py:1509: UndefinedMetricWarning: Precision is ill-defined and being set to 0.0 in labels with no predicted samples. Use `zero_division` parameter to control this behavior.\n",
      "  _warn_prf(average, modifier, f\"{metric.capitalize()} is\", len(result))\n",
      "c:\\Users\\D\\AppData\\Local\\Programs\\Python\\Python312\\Lib\\site-packages\\sklearn\\metrics\\_classification.py:1509: UndefinedMetricWarning: Precision is ill-defined and being set to 0.0 in labels with no predicted samples. Use `zero_division` parameter to control this behavior.\n",
      "  _warn_prf(average, modifier, f\"{metric.capitalize()} is\", len(result))\n"
     ]
    },
    {
     "name": "stdout",
     "output_type": "stream",
     "text": [
      "Model: Model11\n",
      "Parameters: {'max_depth': 15, 'n_estimators': 10, 'max_features': 2, 'name': 'Model11'}\n",
      "Metrics: {'confusion_matrix': array([[965,   0],\n",
      "       [150,   0]], dtype=int64), 'classification_report': {'0': {'precision': 0.8654708520179372, 'recall': 1.0, 'f1-score': 0.9278846153846154, 'support': 965.0}, '1': {'precision': 0.0, 'recall': 0.0, 'f1-score': 0.0, 'support': 150.0}, 'accuracy': 0.8654708520179372, 'macro avg': {'precision': 0.4327354260089686, 'recall': 0.5, 'f1-score': 0.4639423076923077, 'support': 1115.0}, 'weighted avg': {'precision': 0.7490397956926541, 'recall': 0.8654708520179372, 'f1-score': 0.8030570886512591, 'support': 1115.0}}, 'roc_auc': 0.5, 'fpr': array([0., 1.]), 'tpr': array([0., 1.]), 'history': []}\n",
      "Model: Model12\n",
      "Parameters: {'max_depth': 5, 'n_estimators': 20, 'max_features': 2, 'name': 'Model12'}\n",
      "Metrics: {'confusion_matrix': array([[965,   0],\n",
      "       [150,   0]], dtype=int64), 'classification_report': {'0': {'precision': 0.8654708520179372, 'recall': 1.0, 'f1-score': 0.9278846153846154, 'support': 965.0}, '1': {'precision': 0.0, 'recall': 0.0, 'f1-score': 0.0, 'support': 150.0}, 'accuracy': 0.8654708520179372, 'macro avg': {'precision': 0.4327354260089686, 'recall': 0.5, 'f1-score': 0.4639423076923077, 'support': 1115.0}, 'weighted avg': {'precision': 0.7490397956926541, 'recall': 0.8654708520179372, 'f1-score': 0.8030570886512591, 'support': 1115.0}}, 'roc_auc': 0.5, 'fpr': array([0., 1.]), 'tpr': array([0., 1.]), 'history': []}\n"
     ]
    },
    {
     "name": "stderr",
     "output_type": "stream",
     "text": [
      "c:\\Users\\D\\AppData\\Local\\Programs\\Python\\Python312\\Lib\\site-packages\\sklearn\\metrics\\_classification.py:1509: UndefinedMetricWarning: Precision is ill-defined and being set to 0.0 in labels with no predicted samples. Use `zero_division` parameter to control this behavior.\n",
      "  _warn_prf(average, modifier, f\"{metric.capitalize()} is\", len(result))\n",
      "c:\\Users\\D\\AppData\\Local\\Programs\\Python\\Python312\\Lib\\site-packages\\sklearn\\metrics\\_classification.py:1509: UndefinedMetricWarning: Precision is ill-defined and being set to 0.0 in labels with no predicted samples. Use `zero_division` parameter to control this behavior.\n",
      "  _warn_prf(average, modifier, f\"{metric.capitalize()} is\", len(result))\n",
      "c:\\Users\\D\\AppData\\Local\\Programs\\Python\\Python312\\Lib\\site-packages\\sklearn\\metrics\\_classification.py:1509: UndefinedMetricWarning: Precision is ill-defined and being set to 0.0 in labels with no predicted samples. Use `zero_division` parameter to control this behavior.\n",
      "  _warn_prf(average, modifier, f\"{metric.capitalize()} is\", len(result))\n",
      "c:\\Users\\D\\AppData\\Local\\Programs\\Python\\Python312\\Lib\\site-packages\\sklearn\\metrics\\_classification.py:1509: UndefinedMetricWarning: Precision is ill-defined and being set to 0.0 in labels with no predicted samples. Use `zero_division` parameter to control this behavior.\n",
      "  _warn_prf(average, modifier, f\"{metric.capitalize()} is\", len(result))\n",
      "c:\\Users\\D\\AppData\\Local\\Programs\\Python\\Python312\\Lib\\site-packages\\sklearn\\metrics\\_classification.py:1509: UndefinedMetricWarning: Precision is ill-defined and being set to 0.0 in labels with no predicted samples. Use `zero_division` parameter to control this behavior.\n",
      "  _warn_prf(average, modifier, f\"{metric.capitalize()} is\", len(result))\n",
      "c:\\Users\\D\\AppData\\Local\\Programs\\Python\\Python312\\Lib\\site-packages\\sklearn\\metrics\\_classification.py:1509: UndefinedMetricWarning: Precision is ill-defined and being set to 0.0 in labels with no predicted samples. Use `zero_division` parameter to control this behavior.\n",
      "  _warn_prf(average, modifier, f\"{metric.capitalize()} is\", len(result))\n"
     ]
    },
    {
     "name": "stdout",
     "output_type": "stream",
     "text": [
      "Model: Model13\n",
      "Parameters: {'max_depth': 10, 'n_estimators': 20, 'max_features': 2, 'name': 'Model13'}\n",
      "Metrics: {'confusion_matrix': array([[965,   0],\n",
      "       [150,   0]], dtype=int64), 'classification_report': {'0': {'precision': 0.8654708520179372, 'recall': 1.0, 'f1-score': 0.9278846153846154, 'support': 965.0}, '1': {'precision': 0.0, 'recall': 0.0, 'f1-score': 0.0, 'support': 150.0}, 'accuracy': 0.8654708520179372, 'macro avg': {'precision': 0.4327354260089686, 'recall': 0.5, 'f1-score': 0.4639423076923077, 'support': 1115.0}, 'weighted avg': {'precision': 0.7490397956926541, 'recall': 0.8654708520179372, 'f1-score': 0.8030570886512591, 'support': 1115.0}}, 'roc_auc': 0.5, 'fpr': array([0., 1.]), 'tpr': array([0., 1.]), 'history': []}\n",
      "Model: Model14\n",
      "Parameters: {'max_depth': 15, 'n_estimators': 20, 'max_features': 2, 'name': 'Model14'}\n",
      "Metrics: {'confusion_matrix': array([[965,   0],\n",
      "       [150,   0]], dtype=int64), 'classification_report': {'0': {'precision': 0.8654708520179372, 'recall': 1.0, 'f1-score': 0.9278846153846154, 'support': 965.0}, '1': {'precision': 0.0, 'recall': 0.0, 'f1-score': 0.0, 'support': 150.0}, 'accuracy': 0.8654708520179372, 'macro avg': {'precision': 0.4327354260089686, 'recall': 0.5, 'f1-score': 0.4639423076923077, 'support': 1115.0}, 'weighted avg': {'precision': 0.7490397956926541, 'recall': 0.8654708520179372, 'f1-score': 0.8030570886512591, 'support': 1115.0}}, 'roc_auc': 0.5, 'fpr': array([0., 1.]), 'tpr': array([0., 1.]), 'history': []}\n"
     ]
    },
    {
     "name": "stderr",
     "output_type": "stream",
     "text": [
      "c:\\Users\\D\\AppData\\Local\\Programs\\Python\\Python312\\Lib\\site-packages\\sklearn\\metrics\\_classification.py:1509: UndefinedMetricWarning: Precision is ill-defined and being set to 0.0 in labels with no predicted samples. Use `zero_division` parameter to control this behavior.\n",
      "  _warn_prf(average, modifier, f\"{metric.capitalize()} is\", len(result))\n",
      "c:\\Users\\D\\AppData\\Local\\Programs\\Python\\Python312\\Lib\\site-packages\\sklearn\\metrics\\_classification.py:1509: UndefinedMetricWarning: Precision is ill-defined and being set to 0.0 in labels with no predicted samples. Use `zero_division` parameter to control this behavior.\n",
      "  _warn_prf(average, modifier, f\"{metric.capitalize()} is\", len(result))\n",
      "c:\\Users\\D\\AppData\\Local\\Programs\\Python\\Python312\\Lib\\site-packages\\sklearn\\metrics\\_classification.py:1509: UndefinedMetricWarning: Precision is ill-defined and being set to 0.0 in labels with no predicted samples. Use `zero_division` parameter to control this behavior.\n",
      "  _warn_prf(average, modifier, f\"{metric.capitalize()} is\", len(result))\n",
      "c:\\Users\\D\\AppData\\Local\\Programs\\Python\\Python312\\Lib\\site-packages\\sklearn\\metrics\\_classification.py:1509: UndefinedMetricWarning: Precision is ill-defined and being set to 0.0 in labels with no predicted samples. Use `zero_division` parameter to control this behavior.\n",
      "  _warn_prf(average, modifier, f\"{metric.capitalize()} is\", len(result))\n",
      "c:\\Users\\D\\AppData\\Local\\Programs\\Python\\Python312\\Lib\\site-packages\\sklearn\\metrics\\_classification.py:1509: UndefinedMetricWarning: Precision is ill-defined and being set to 0.0 in labels with no predicted samples. Use `zero_division` parameter to control this behavior.\n",
      "  _warn_prf(average, modifier, f\"{metric.capitalize()} is\", len(result))\n",
      "c:\\Users\\D\\AppData\\Local\\Programs\\Python\\Python312\\Lib\\site-packages\\sklearn\\metrics\\_classification.py:1509: UndefinedMetricWarning: Precision is ill-defined and being set to 0.0 in labels with no predicted samples. Use `zero_division` parameter to control this behavior.\n",
      "  _warn_prf(average, modifier, f\"{metric.capitalize()} is\", len(result))\n"
     ]
    },
    {
     "name": "stdout",
     "output_type": "stream",
     "text": [
      "Model: Model15\n",
      "Parameters: {'max_depth': 5, 'n_estimators': 30, 'max_features': 2, 'name': 'Model15'}\n",
      "Metrics: {'confusion_matrix': array([[965,   0],\n",
      "       [150,   0]], dtype=int64), 'classification_report': {'0': {'precision': 0.8654708520179372, 'recall': 1.0, 'f1-score': 0.9278846153846154, 'support': 965.0}, '1': {'precision': 0.0, 'recall': 0.0, 'f1-score': 0.0, 'support': 150.0}, 'accuracy': 0.8654708520179372, 'macro avg': {'precision': 0.4327354260089686, 'recall': 0.5, 'f1-score': 0.4639423076923077, 'support': 1115.0}, 'weighted avg': {'precision': 0.7490397956926541, 'recall': 0.8654708520179372, 'f1-score': 0.8030570886512591, 'support': 1115.0}}, 'roc_auc': 0.5, 'fpr': array([0., 1.]), 'tpr': array([0., 1.]), 'history': []}\n"
     ]
    },
    {
     "name": "stderr",
     "output_type": "stream",
     "text": [
      "c:\\Users\\D\\AppData\\Local\\Programs\\Python\\Python312\\Lib\\site-packages\\sklearn\\metrics\\_classification.py:1509: UndefinedMetricWarning: Precision is ill-defined and being set to 0.0 in labels with no predicted samples. Use `zero_division` parameter to control this behavior.\n",
      "  _warn_prf(average, modifier, f\"{metric.capitalize()} is\", len(result))\n",
      "c:\\Users\\D\\AppData\\Local\\Programs\\Python\\Python312\\Lib\\site-packages\\sklearn\\metrics\\_classification.py:1509: UndefinedMetricWarning: Precision is ill-defined and being set to 0.0 in labels with no predicted samples. Use `zero_division` parameter to control this behavior.\n",
      "  _warn_prf(average, modifier, f\"{metric.capitalize()} is\", len(result))\n",
      "c:\\Users\\D\\AppData\\Local\\Programs\\Python\\Python312\\Lib\\site-packages\\sklearn\\metrics\\_classification.py:1509: UndefinedMetricWarning: Precision is ill-defined and being set to 0.0 in labels with no predicted samples. Use `zero_division` parameter to control this behavior.\n",
      "  _warn_prf(average, modifier, f\"{metric.capitalize()} is\", len(result))\n",
      "c:\\Users\\D\\AppData\\Local\\Programs\\Python\\Python312\\Lib\\site-packages\\sklearn\\metrics\\_classification.py:1509: UndefinedMetricWarning: Precision is ill-defined and being set to 0.0 in labels with no predicted samples. Use `zero_division` parameter to control this behavior.\n",
      "  _warn_prf(average, modifier, f\"{metric.capitalize()} is\", len(result))\n",
      "c:\\Users\\D\\AppData\\Local\\Programs\\Python\\Python312\\Lib\\site-packages\\sklearn\\metrics\\_classification.py:1509: UndefinedMetricWarning: Precision is ill-defined and being set to 0.0 in labels with no predicted samples. Use `zero_division` parameter to control this behavior.\n",
      "  _warn_prf(average, modifier, f\"{metric.capitalize()} is\", len(result))\n",
      "c:\\Users\\D\\AppData\\Local\\Programs\\Python\\Python312\\Lib\\site-packages\\sklearn\\metrics\\_classification.py:1509: UndefinedMetricWarning: Precision is ill-defined and being set to 0.0 in labels with no predicted samples. Use `zero_division` parameter to control this behavior.\n",
      "  _warn_prf(average, modifier, f\"{metric.capitalize()} is\", len(result))\n"
     ]
    },
    {
     "name": "stdout",
     "output_type": "stream",
     "text": [
      "Model: Model16\n",
      "Parameters: {'max_depth': 10, 'n_estimators': 30, 'max_features': 2, 'name': 'Model16'}\n",
      "Metrics: {'confusion_matrix': array([[965,   0],\n",
      "       [150,   0]], dtype=int64), 'classification_report': {'0': {'precision': 0.8654708520179372, 'recall': 1.0, 'f1-score': 0.9278846153846154, 'support': 965.0}, '1': {'precision': 0.0, 'recall': 0.0, 'f1-score': 0.0, 'support': 150.0}, 'accuracy': 0.8654708520179372, 'macro avg': {'precision': 0.4327354260089686, 'recall': 0.5, 'f1-score': 0.4639423076923077, 'support': 1115.0}, 'weighted avg': {'precision': 0.7490397956926541, 'recall': 0.8654708520179372, 'f1-score': 0.8030570886512591, 'support': 1115.0}}, 'roc_auc': 0.5, 'fpr': array([0., 1.]), 'tpr': array([0., 1.]), 'history': []}\n",
      "Model: Model17\n",
      "Parameters: {'max_depth': 15, 'n_estimators': 30, 'max_features': 2, 'name': 'Model17'}\n",
      "Metrics: {'confusion_matrix': array([[965,   0],\n",
      "       [150,   0]], dtype=int64), 'classification_report': {'0': {'precision': 0.8654708520179372, 'recall': 1.0, 'f1-score': 0.9278846153846154, 'support': 965.0}, '1': {'precision': 0.0, 'recall': 0.0, 'f1-score': 0.0, 'support': 150.0}, 'accuracy': 0.8654708520179372, 'macro avg': {'precision': 0.4327354260089686, 'recall': 0.5, 'f1-score': 0.4639423076923077, 'support': 1115.0}, 'weighted avg': {'precision': 0.7490397956926541, 'recall': 0.8654708520179372, 'f1-score': 0.8030570886512591, 'support': 1115.0}}, 'roc_auc': 0.5, 'fpr': array([0., 1.]), 'tpr': array([0., 1.]), 'history': []}\n"
     ]
    },
    {
     "name": "stderr",
     "output_type": "stream",
     "text": [
      "c:\\Users\\D\\AppData\\Local\\Programs\\Python\\Python312\\Lib\\site-packages\\sklearn\\metrics\\_classification.py:1509: UndefinedMetricWarning: Precision is ill-defined and being set to 0.0 in labels with no predicted samples. Use `zero_division` parameter to control this behavior.\n",
      "  _warn_prf(average, modifier, f\"{metric.capitalize()} is\", len(result))\n",
      "c:\\Users\\D\\AppData\\Local\\Programs\\Python\\Python312\\Lib\\site-packages\\sklearn\\metrics\\_classification.py:1509: UndefinedMetricWarning: Precision is ill-defined and being set to 0.0 in labels with no predicted samples. Use `zero_division` parameter to control this behavior.\n",
      "  _warn_prf(average, modifier, f\"{metric.capitalize()} is\", len(result))\n",
      "c:\\Users\\D\\AppData\\Local\\Programs\\Python\\Python312\\Lib\\site-packages\\sklearn\\metrics\\_classification.py:1509: UndefinedMetricWarning: Precision is ill-defined and being set to 0.0 in labels with no predicted samples. Use `zero_division` parameter to control this behavior.\n",
      "  _warn_prf(average, modifier, f\"{metric.capitalize()} is\", len(result))\n",
      "c:\\Users\\D\\AppData\\Local\\Programs\\Python\\Python312\\Lib\\site-packages\\sklearn\\metrics\\_classification.py:1509: UndefinedMetricWarning: Precision is ill-defined and being set to 0.0 in labels with no predicted samples. Use `zero_division` parameter to control this behavior.\n",
      "  _warn_prf(average, modifier, f\"{metric.capitalize()} is\", len(result))\n",
      "c:\\Users\\D\\AppData\\Local\\Programs\\Python\\Python312\\Lib\\site-packages\\sklearn\\metrics\\_classification.py:1509: UndefinedMetricWarning: Precision is ill-defined and being set to 0.0 in labels with no predicted samples. Use `zero_division` parameter to control this behavior.\n",
      "  _warn_prf(average, modifier, f\"{metric.capitalize()} is\", len(result))\n",
      "c:\\Users\\D\\AppData\\Local\\Programs\\Python\\Python312\\Lib\\site-packages\\sklearn\\metrics\\_classification.py:1509: UndefinedMetricWarning: Precision is ill-defined and being set to 0.0 in labels with no predicted samples. Use `zero_division` parameter to control this behavior.\n",
      "  _warn_prf(average, modifier, f\"{metric.capitalize()} is\", len(result))\n"
     ]
    },
    {
     "name": "stdout",
     "output_type": "stream",
     "text": [
      "Model: Model18\n",
      "Parameters: {'max_depth': 5, 'n_estimators': 10, 'max_features': 3, 'name': 'Model18'}\n",
      "Metrics: {'confusion_matrix': array([[965,   0],\n",
      "       [150,   0]], dtype=int64), 'classification_report': {'0': {'precision': 0.8654708520179372, 'recall': 1.0, 'f1-score': 0.9278846153846154, 'support': 965.0}, '1': {'precision': 0.0, 'recall': 0.0, 'f1-score': 0.0, 'support': 150.0}, 'accuracy': 0.8654708520179372, 'macro avg': {'precision': 0.4327354260089686, 'recall': 0.5, 'f1-score': 0.4639423076923077, 'support': 1115.0}, 'weighted avg': {'precision': 0.7490397956926541, 'recall': 0.8654708520179372, 'f1-score': 0.8030570886512591, 'support': 1115.0}}, 'roc_auc': 0.5, 'fpr': array([0., 1.]), 'tpr': array([0., 1.]), 'history': []}\n",
      "Model: Model19\n",
      "Parameters: {'max_depth': 10, 'n_estimators': 10, 'max_features': 3, 'name': 'Model19'}\n",
      "Metrics: {'confusion_matrix': array([[965,   0],\n",
      "       [150,   0]], dtype=int64), 'classification_report': {'0': {'precision': 0.8654708520179372, 'recall': 1.0, 'f1-score': 0.9278846153846154, 'support': 965.0}, '1': {'precision': 0.0, 'recall': 0.0, 'f1-score': 0.0, 'support': 150.0}, 'accuracy': 0.8654708520179372, 'macro avg': {'precision': 0.4327354260089686, 'recall': 0.5, 'f1-score': 0.4639423076923077, 'support': 1115.0}, 'weighted avg': {'precision': 0.7490397956926541, 'recall': 0.8654708520179372, 'f1-score': 0.8030570886512591, 'support': 1115.0}}, 'roc_auc': 0.5, 'fpr': array([0., 1.]), 'tpr': array([0., 1.]), 'history': []}\n"
     ]
    },
    {
     "name": "stderr",
     "output_type": "stream",
     "text": [
      "c:\\Users\\D\\AppData\\Local\\Programs\\Python\\Python312\\Lib\\site-packages\\sklearn\\metrics\\_classification.py:1509: UndefinedMetricWarning: Precision is ill-defined and being set to 0.0 in labels with no predicted samples. Use `zero_division` parameter to control this behavior.\n",
      "  _warn_prf(average, modifier, f\"{metric.capitalize()} is\", len(result))\n",
      "c:\\Users\\D\\AppData\\Local\\Programs\\Python\\Python312\\Lib\\site-packages\\sklearn\\metrics\\_classification.py:1509: UndefinedMetricWarning: Precision is ill-defined and being set to 0.0 in labels with no predicted samples. Use `zero_division` parameter to control this behavior.\n",
      "  _warn_prf(average, modifier, f\"{metric.capitalize()} is\", len(result))\n",
      "c:\\Users\\D\\AppData\\Local\\Programs\\Python\\Python312\\Lib\\site-packages\\sklearn\\metrics\\_classification.py:1509: UndefinedMetricWarning: Precision is ill-defined and being set to 0.0 in labels with no predicted samples. Use `zero_division` parameter to control this behavior.\n",
      "  _warn_prf(average, modifier, f\"{metric.capitalize()} is\", len(result))\n",
      "c:\\Users\\D\\AppData\\Local\\Programs\\Python\\Python312\\Lib\\site-packages\\sklearn\\metrics\\_classification.py:1509: UndefinedMetricWarning: Precision is ill-defined and being set to 0.0 in labels with no predicted samples. Use `zero_division` parameter to control this behavior.\n",
      "  _warn_prf(average, modifier, f\"{metric.capitalize()} is\", len(result))\n",
      "c:\\Users\\D\\AppData\\Local\\Programs\\Python\\Python312\\Lib\\site-packages\\sklearn\\metrics\\_classification.py:1509: UndefinedMetricWarning: Precision is ill-defined and being set to 0.0 in labels with no predicted samples. Use `zero_division` parameter to control this behavior.\n",
      "  _warn_prf(average, modifier, f\"{metric.capitalize()} is\", len(result))\n",
      "c:\\Users\\D\\AppData\\Local\\Programs\\Python\\Python312\\Lib\\site-packages\\sklearn\\metrics\\_classification.py:1509: UndefinedMetricWarning: Precision is ill-defined and being set to 0.0 in labels with no predicted samples. Use `zero_division` parameter to control this behavior.\n",
      "  _warn_prf(average, modifier, f\"{metric.capitalize()} is\", len(result))\n"
     ]
    },
    {
     "name": "stdout",
     "output_type": "stream",
     "text": [
      "Model: Model20\n",
      "Parameters: {'max_depth': 15, 'n_estimators': 10, 'max_features': 3, 'name': 'Model20'}\n",
      "Metrics: {'confusion_matrix': array([[965,   0],\n",
      "       [150,   0]], dtype=int64), 'classification_report': {'0': {'precision': 0.8654708520179372, 'recall': 1.0, 'f1-score': 0.9278846153846154, 'support': 965.0}, '1': {'precision': 0.0, 'recall': 0.0, 'f1-score': 0.0, 'support': 150.0}, 'accuracy': 0.8654708520179372, 'macro avg': {'precision': 0.4327354260089686, 'recall': 0.5, 'f1-score': 0.4639423076923077, 'support': 1115.0}, 'weighted avg': {'precision': 0.7490397956926541, 'recall': 0.8654708520179372, 'f1-score': 0.8030570886512591, 'support': 1115.0}}, 'roc_auc': 0.5, 'fpr': array([0., 1.]), 'tpr': array([0., 1.]), 'history': []}\n",
      "Model: Model21\n",
      "Parameters: {'max_depth': 5, 'n_estimators': 20, 'max_features': 3, 'name': 'Model21'}\n",
      "Metrics: {'confusion_matrix': array([[965,   0],\n",
      "       [150,   0]], dtype=int64), 'classification_report': {'0': {'precision': 0.8654708520179372, 'recall': 1.0, 'f1-score': 0.9278846153846154, 'support': 965.0}, '1': {'precision': 0.0, 'recall': 0.0, 'f1-score': 0.0, 'support': 150.0}, 'accuracy': 0.8654708520179372, 'macro avg': {'precision': 0.4327354260089686, 'recall': 0.5, 'f1-score': 0.4639423076923077, 'support': 1115.0}, 'weighted avg': {'precision': 0.7490397956926541, 'recall': 0.8654708520179372, 'f1-score': 0.8030570886512591, 'support': 1115.0}}, 'roc_auc': 0.5, 'fpr': array([0., 1.]), 'tpr': array([0., 1.]), 'history': []}\n"
     ]
    },
    {
     "name": "stderr",
     "output_type": "stream",
     "text": [
      "c:\\Users\\D\\AppData\\Local\\Programs\\Python\\Python312\\Lib\\site-packages\\sklearn\\metrics\\_classification.py:1509: UndefinedMetricWarning: Precision is ill-defined and being set to 0.0 in labels with no predicted samples. Use `zero_division` parameter to control this behavior.\n",
      "  _warn_prf(average, modifier, f\"{metric.capitalize()} is\", len(result))\n",
      "c:\\Users\\D\\AppData\\Local\\Programs\\Python\\Python312\\Lib\\site-packages\\sklearn\\metrics\\_classification.py:1509: UndefinedMetricWarning: Precision is ill-defined and being set to 0.0 in labels with no predicted samples. Use `zero_division` parameter to control this behavior.\n",
      "  _warn_prf(average, modifier, f\"{metric.capitalize()} is\", len(result))\n",
      "c:\\Users\\D\\AppData\\Local\\Programs\\Python\\Python312\\Lib\\site-packages\\sklearn\\metrics\\_classification.py:1509: UndefinedMetricWarning: Precision is ill-defined and being set to 0.0 in labels with no predicted samples. Use `zero_division` parameter to control this behavior.\n",
      "  _warn_prf(average, modifier, f\"{metric.capitalize()} is\", len(result))\n",
      "c:\\Users\\D\\AppData\\Local\\Programs\\Python\\Python312\\Lib\\site-packages\\sklearn\\metrics\\_classification.py:1509: UndefinedMetricWarning: Precision is ill-defined and being set to 0.0 in labels with no predicted samples. Use `zero_division` parameter to control this behavior.\n",
      "  _warn_prf(average, modifier, f\"{metric.capitalize()} is\", len(result))\n",
      "c:\\Users\\D\\AppData\\Local\\Programs\\Python\\Python312\\Lib\\site-packages\\sklearn\\metrics\\_classification.py:1509: UndefinedMetricWarning: Precision is ill-defined and being set to 0.0 in labels with no predicted samples. Use `zero_division` parameter to control this behavior.\n",
      "  _warn_prf(average, modifier, f\"{metric.capitalize()} is\", len(result))\n",
      "c:\\Users\\D\\AppData\\Local\\Programs\\Python\\Python312\\Lib\\site-packages\\sklearn\\metrics\\_classification.py:1509: UndefinedMetricWarning: Precision is ill-defined and being set to 0.0 in labels with no predicted samples. Use `zero_division` parameter to control this behavior.\n",
      "  _warn_prf(average, modifier, f\"{metric.capitalize()} is\", len(result))\n"
     ]
    },
    {
     "name": "stdout",
     "output_type": "stream",
     "text": [
      "Model: Model22\n",
      "Parameters: {'max_depth': 10, 'n_estimators': 20, 'max_features': 3, 'name': 'Model22'}\n",
      "Metrics: {'confusion_matrix': array([[965,   0],\n",
      "       [150,   0]], dtype=int64), 'classification_report': {'0': {'precision': 0.8654708520179372, 'recall': 1.0, 'f1-score': 0.9278846153846154, 'support': 965.0}, '1': {'precision': 0.0, 'recall': 0.0, 'f1-score': 0.0, 'support': 150.0}, 'accuracy': 0.8654708520179372, 'macro avg': {'precision': 0.4327354260089686, 'recall': 0.5, 'f1-score': 0.4639423076923077, 'support': 1115.0}, 'weighted avg': {'precision': 0.7490397956926541, 'recall': 0.8654708520179372, 'f1-score': 0.8030570886512591, 'support': 1115.0}}, 'roc_auc': 0.5, 'fpr': array([0., 1.]), 'tpr': array([0., 1.]), 'history': []}\n",
      "Model: Model23\n",
      "Parameters: {'max_depth': 15, 'n_estimators': 20, 'max_features': 3, 'name': 'Model23'}\n",
      "Metrics: {'confusion_matrix': array([[965,   0],\n",
      "       [150,   0]], dtype=int64), 'classification_report': {'0': {'precision': 0.8654708520179372, 'recall': 1.0, 'f1-score': 0.9278846153846154, 'support': 965.0}, '1': {'precision': 0.0, 'recall': 0.0, 'f1-score': 0.0, 'support': 150.0}, 'accuracy': 0.8654708520179372, 'macro avg': {'precision': 0.4327354260089686, 'recall': 0.5, 'f1-score': 0.4639423076923077, 'support': 1115.0}, 'weighted avg': {'precision': 0.7490397956926541, 'recall': 0.8654708520179372, 'f1-score': 0.8030570886512591, 'support': 1115.0}}, 'roc_auc': 0.5, 'fpr': array([0., 1.]), 'tpr': array([0., 1.]), 'history': []}\n"
     ]
    },
    {
     "name": "stderr",
     "output_type": "stream",
     "text": [
      "c:\\Users\\D\\AppData\\Local\\Programs\\Python\\Python312\\Lib\\site-packages\\sklearn\\metrics\\_classification.py:1509: UndefinedMetricWarning: Precision is ill-defined and being set to 0.0 in labels with no predicted samples. Use `zero_division` parameter to control this behavior.\n",
      "  _warn_prf(average, modifier, f\"{metric.capitalize()} is\", len(result))\n",
      "c:\\Users\\D\\AppData\\Local\\Programs\\Python\\Python312\\Lib\\site-packages\\sklearn\\metrics\\_classification.py:1509: UndefinedMetricWarning: Precision is ill-defined and being set to 0.0 in labels with no predicted samples. Use `zero_division` parameter to control this behavior.\n",
      "  _warn_prf(average, modifier, f\"{metric.capitalize()} is\", len(result))\n",
      "c:\\Users\\D\\AppData\\Local\\Programs\\Python\\Python312\\Lib\\site-packages\\sklearn\\metrics\\_classification.py:1509: UndefinedMetricWarning: Precision is ill-defined and being set to 0.0 in labels with no predicted samples. Use `zero_division` parameter to control this behavior.\n",
      "  _warn_prf(average, modifier, f\"{metric.capitalize()} is\", len(result))\n",
      "c:\\Users\\D\\AppData\\Local\\Programs\\Python\\Python312\\Lib\\site-packages\\sklearn\\metrics\\_classification.py:1509: UndefinedMetricWarning: Precision is ill-defined and being set to 0.0 in labels with no predicted samples. Use `zero_division` parameter to control this behavior.\n",
      "  _warn_prf(average, modifier, f\"{metric.capitalize()} is\", len(result))\n",
      "c:\\Users\\D\\AppData\\Local\\Programs\\Python\\Python312\\Lib\\site-packages\\sklearn\\metrics\\_classification.py:1509: UndefinedMetricWarning: Precision is ill-defined and being set to 0.0 in labels with no predicted samples. Use `zero_division` parameter to control this behavior.\n",
      "  _warn_prf(average, modifier, f\"{metric.capitalize()} is\", len(result))\n",
      "c:\\Users\\D\\AppData\\Local\\Programs\\Python\\Python312\\Lib\\site-packages\\sklearn\\metrics\\_classification.py:1509: UndefinedMetricWarning: Precision is ill-defined and being set to 0.0 in labels with no predicted samples. Use `zero_division` parameter to control this behavior.\n",
      "  _warn_prf(average, modifier, f\"{metric.capitalize()} is\", len(result))\n"
     ]
    },
    {
     "name": "stdout",
     "output_type": "stream",
     "text": [
      "Model: Model24\n",
      "Parameters: {'max_depth': 5, 'n_estimators': 30, 'max_features': 3, 'name': 'Model24'}\n",
      "Metrics: {'confusion_matrix': array([[965,   0],\n",
      "       [150,   0]], dtype=int64), 'classification_report': {'0': {'precision': 0.8654708520179372, 'recall': 1.0, 'f1-score': 0.9278846153846154, 'support': 965.0}, '1': {'precision': 0.0, 'recall': 0.0, 'f1-score': 0.0, 'support': 150.0}, 'accuracy': 0.8654708520179372, 'macro avg': {'precision': 0.4327354260089686, 'recall': 0.5, 'f1-score': 0.4639423076923077, 'support': 1115.0}, 'weighted avg': {'precision': 0.7490397956926541, 'recall': 0.8654708520179372, 'f1-score': 0.8030570886512591, 'support': 1115.0}}, 'roc_auc': 0.5, 'fpr': array([0., 1.]), 'tpr': array([0., 1.]), 'history': []}\n",
      "Model: Model25\n",
      "Parameters: {'max_depth': 10, 'n_estimators': 30, 'max_features': 3, 'name': 'Model25'}\n",
      "Metrics: {'confusion_matrix': array([[965,   0],\n",
      "       [150,   0]], dtype=int64), 'classification_report': {'0': {'precision': 0.8654708520179372, 'recall': 1.0, 'f1-score': 0.9278846153846154, 'support': 965.0}, '1': {'precision': 0.0, 'recall': 0.0, 'f1-score': 0.0, 'support': 150.0}, 'accuracy': 0.8654708520179372, 'macro avg': {'precision': 0.4327354260089686, 'recall': 0.5, 'f1-score': 0.4639423076923077, 'support': 1115.0}, 'weighted avg': {'precision': 0.7490397956926541, 'recall': 0.8654708520179372, 'f1-score': 0.8030570886512591, 'support': 1115.0}}, 'roc_auc': 0.5, 'fpr': array([0., 1.]), 'tpr': array([0., 1.]), 'history': []}\n",
      "Model: Model26\n",
      "Parameters: {'max_depth': 15, 'n_estimators': 30, 'max_features': 3, 'name': 'Model26'}\n",
      "Metrics: {'confusion_matrix': array([[965,   0],\n",
      "       [150,   0]], dtype=int64), 'classification_report': {'0': {'precision': 0.8654708520179372, 'recall': 1.0, 'f1-score': 0.9278846153846154, 'support': 965.0}, '1': {'precision': 0.0, 'recall': 0.0, 'f1-score': 0.0, 'support': 150.0}, 'accuracy': 0.8654708520179372, 'macro avg': {'precision': 0.4327354260089686, 'recall': 0.5, 'f1-score': 0.4639423076923077, 'support': 1115.0}, 'weighted avg': {'precision': 0.7490397956926541, 'recall': 0.8654708520179372, 'f1-score': 0.8030570886512591, 'support': 1115.0}}, 'roc_auc': 0.5, 'fpr': array([0., 1.]), 'tpr': array([0., 1.]), 'history': []}\n"
     ]
    },
    {
     "name": "stderr",
     "output_type": "stream",
     "text": [
      "c:\\Users\\D\\AppData\\Local\\Programs\\Python\\Python312\\Lib\\site-packages\\sklearn\\metrics\\_classification.py:1509: UndefinedMetricWarning: Precision is ill-defined and being set to 0.0 in labels with no predicted samples. Use `zero_division` parameter to control this behavior.\n",
      "  _warn_prf(average, modifier, f\"{metric.capitalize()} is\", len(result))\n",
      "c:\\Users\\D\\AppData\\Local\\Programs\\Python\\Python312\\Lib\\site-packages\\sklearn\\metrics\\_classification.py:1509: UndefinedMetricWarning: Precision is ill-defined and being set to 0.0 in labels with no predicted samples. Use `zero_division` parameter to control this behavior.\n",
      "  _warn_prf(average, modifier, f\"{metric.capitalize()} is\", len(result))\n",
      "c:\\Users\\D\\AppData\\Local\\Programs\\Python\\Python312\\Lib\\site-packages\\sklearn\\metrics\\_classification.py:1509: UndefinedMetricWarning: Precision is ill-defined and being set to 0.0 in labels with no predicted samples. Use `zero_division` parameter to control this behavior.\n",
      "  _warn_prf(average, modifier, f\"{metric.capitalize()} is\", len(result))\n"
     ]
    }
   ],
   "source": [
    "from sklearn.ensemble import RandomForestClassifier\n",
    "\n",
    "def make_model(\n",
    "        name,\n",
    "        max_depth,\n",
    "        n_estimators,\n",
    "        max_features,\n",
    "    ):\n",
    "    model = RandomForestClassifier(\n",
    "        max_depth=5, n_estimators=10, max_features=1,\n",
    "    )\n",
    "    return model\n",
    "\n",
    "param_grid = {\n",
    "    'max_depth' : [5,10,15],\n",
    "    'n_estimators' : [10,20,30],\n",
    "    'max_features' : [1,2,3]\n",
    "}\n",
    "\n",
    "r2 = grid_search(param_grid, make_model, X_train, y_train , X_test , y_test, train_f )"
   ]
  },
  {
   "cell_type": "code",
   "execution_count": 11,
   "metadata": {},
   "outputs": [
    {
     "name": "stdout",
     "output_type": "stream",
     "text": [
      "[({'max_depth': 5, 'max_features': 1, 'n_estimators': 10, 'name': 'Model0'},\n",
      "  0.8654708520179372),\n",
      " ({'max_depth': 10, 'max_features': 1, 'n_estimators': 10, 'name': 'Model1'},\n",
      "  0.8654708520179372),\n",
      " ({'max_depth': 15, 'max_features': 1, 'n_estimators': 10, 'name': 'Model2'},\n",
      "  0.8654708520179372),\n",
      " ({'max_depth': 5, 'max_features': 1, 'n_estimators': 20, 'name': 'Model3'},\n",
      "  0.8654708520179372),\n",
      " ({'max_depth': 10, 'max_features': 1, 'n_estimators': 20, 'name': 'Model4'},\n",
      "  0.8654708520179372),\n",
      " ({'max_depth': 15, 'max_features': 1, 'n_estimators': 20, 'name': 'Model5'},\n",
      "  0.8654708520179372),\n",
      " ({'max_depth': 5, 'max_features': 1, 'n_estimators': 30, 'name': 'Model6'},\n",
      "  0.8654708520179372),\n",
      " ({'max_depth': 10, 'max_features': 1, 'n_estimators': 30, 'name': 'Model7'},\n",
      "  0.8654708520179372),\n",
      " ({'max_depth': 15, 'max_features': 1, 'n_estimators': 30, 'name': 'Model8'},\n",
      "  0.8654708520179372),\n",
      " ({'max_depth': 5, 'max_features': 2, 'n_estimators': 10, 'name': 'Model9'},\n",
      "  0.8654708520179372),\n",
      " ({'max_depth': 10, 'max_features': 2, 'n_estimators': 10, 'name': 'Model10'},\n",
      "  0.8654708520179372),\n",
      " ({'max_depth': 15, 'max_features': 2, 'n_estimators': 10, 'name': 'Model11'},\n",
      "  0.8654708520179372),\n",
      " ({'max_depth': 5, 'max_features': 2, 'n_estimators': 20, 'name': 'Model12'},\n",
      "  0.8654708520179372),\n",
      " ({'max_depth': 10, 'max_features': 2, 'n_estimators': 20, 'name': 'Model13'},\n",
      "  0.8654708520179372),\n",
      " ({'max_depth': 15, 'max_features': 2, 'n_estimators': 20, 'name': 'Model14'},\n",
      "  0.8654708520179372),\n",
      " ({'max_depth': 5, 'max_features': 2, 'n_estimators': 30, 'name': 'Model15'},\n",
      "  0.8654708520179372),\n",
      " ({'max_depth': 10, 'max_features': 2, 'n_estimators': 30, 'name': 'Model16'},\n",
      "  0.8654708520179372),\n",
      " ({'max_depth': 15, 'max_features': 2, 'n_estimators': 30, 'name': 'Model17'},\n",
      "  0.8654708520179372),\n",
      " ({'max_depth': 5, 'max_features': 3, 'n_estimators': 10, 'name': 'Model18'},\n",
      "  0.8654708520179372),\n",
      " ({'max_depth': 10, 'max_features': 3, 'n_estimators': 10, 'name': 'Model19'},\n",
      "  0.8654708520179372),\n",
      " ({'max_depth': 15, 'max_features': 3, 'n_estimators': 10, 'name': 'Model20'},\n",
      "  0.8654708520179372),\n",
      " ({'max_depth': 5, 'max_features': 3, 'n_estimators': 20, 'name': 'Model21'},\n",
      "  0.8654708520179372),\n",
      " ({'max_depth': 10, 'max_features': 3, 'n_estimators': 20, 'name': 'Model22'},\n",
      "  0.8654708520179372),\n",
      " ({'max_depth': 15, 'max_features': 3, 'n_estimators': 20, 'name': 'Model23'},\n",
      "  0.8654708520179372),\n",
      " ({'max_depth': 5, 'max_features': 3, 'n_estimators': 30, 'name': 'Model24'},\n",
      "  0.8654708520179372),\n",
      " ({'max_depth': 10, 'max_features': 3, 'n_estimators': 30, 'name': 'Model25'},\n",
      "  0.8654708520179372),\n",
      " ({'max_depth': 15, 'max_features': 3, 'n_estimators': 30, 'name': 'Model26'},\n",
      "  0.8654708520179372)]\n"
     ]
    }
   ],
   "source": [
    "from pprint import pprint\n",
    "\n",
    "r2.sort(key=lambda x: x[2][\"classification_report\"][\"accuracy\"], reverse=True)\n",
    "pprint([ (params , metrics[\"classification_report\"][\"accuracy\"]) for model, params, metrics in r2])"
   ]
  },
  {
   "cell_type": "code",
   "execution_count": 12,
   "metadata": {},
   "outputs": [
    {
     "name": "stderr",
     "output_type": "stream",
     "text": [
      "c:\\Users\\D\\AppData\\Local\\Programs\\Python\\Python312\\Lib\\site-packages\\sklearn\\ensemble\\_weight_boosting.py:519: FutureWarning: The SAMME.R algorithm (the default) is deprecated and will be removed in 1.6. Use the SAMME algorithm to circumvent this warning.\n",
      "  warnings.warn(\n"
     ]
    },
    {
     "name": "stdout",
     "output_type": "stream",
     "text": [
      "Grid size: 5\n",
      "Model: Model0\n",
      "Parameters: {'n_estimators': 10, 'name': 'Model0'}\n",
      "Metrics: {'confusion_matrix': array([[956,   9],\n",
      "       [ 62,  88]], dtype=int64), 'classification_report': {'0': {'precision': 0.9390962671905697, 'recall': 0.9906735751295337, 'f1-score': 0.9641956631366616, 'support': 965.0}, '1': {'precision': 0.9072164948453608, 'recall': 0.5866666666666667, 'f1-score': 0.7125506072874493, 'support': 150.0}, 'accuracy': 0.9363228699551569, 'macro avg': {'precision': 0.9231563810179653, 'recall': 0.7886701208981002, 'f1-score': 0.8383731352120555, 'support': 1115.0}, 'weighted avg': {'precision': 0.9348075085791065, 'recall': 0.9363228699551569, 'f1-score': 0.9303420681793684, 'support': 1115.0}}, 'roc_auc': 0.7886701208981002, 'fpr': array([0.        , 0.00932642, 1.        ]), 'tpr': array([0.        , 0.58666667, 1.        ]), 'history': []}\n"
     ]
    },
    {
     "name": "stderr",
     "output_type": "stream",
     "text": [
      "c:\\Users\\D\\AppData\\Local\\Programs\\Python\\Python312\\Lib\\site-packages\\sklearn\\ensemble\\_weight_boosting.py:519: FutureWarning: The SAMME.R algorithm (the default) is deprecated and will be removed in 1.6. Use the SAMME algorithm to circumvent this warning.\n",
      "  warnings.warn(\n"
     ]
    },
    {
     "name": "stdout",
     "output_type": "stream",
     "text": [
      "Model: Model1\n",
      "Parameters: {'n_estimators': 20, 'name': 'Model1'}\n",
      "Metrics: {'confusion_matrix': array([[956,   9],\n",
      "       [ 62,  88]], dtype=int64), 'classification_report': {'0': {'precision': 0.9390962671905697, 'recall': 0.9906735751295337, 'f1-score': 0.9641956631366616, 'support': 965.0}, '1': {'precision': 0.9072164948453608, 'recall': 0.5866666666666667, 'f1-score': 0.7125506072874493, 'support': 150.0}, 'accuracy': 0.9363228699551569, 'macro avg': {'precision': 0.9231563810179653, 'recall': 0.7886701208981002, 'f1-score': 0.8383731352120555, 'support': 1115.0}, 'weighted avg': {'precision': 0.9348075085791065, 'recall': 0.9363228699551569, 'f1-score': 0.9303420681793684, 'support': 1115.0}}, 'roc_auc': 0.7886701208981002, 'fpr': array([0.        , 0.00932642, 1.        ]), 'tpr': array([0.        , 0.58666667, 1.        ]), 'history': []}\n"
     ]
    },
    {
     "name": "stderr",
     "output_type": "stream",
     "text": [
      "c:\\Users\\D\\AppData\\Local\\Programs\\Python\\Python312\\Lib\\site-packages\\sklearn\\ensemble\\_weight_boosting.py:519: FutureWarning: The SAMME.R algorithm (the default) is deprecated and will be removed in 1.6. Use the SAMME algorithm to circumvent this warning.\n",
      "  warnings.warn(\n"
     ]
    },
    {
     "name": "stdout",
     "output_type": "stream",
     "text": [
      "Model: Model2\n",
      "Parameters: {'n_estimators': 30, 'name': 'Model2'}\n",
      "Metrics: {'confusion_matrix': array([[956,   9],\n",
      "       [ 62,  88]], dtype=int64), 'classification_report': {'0': {'precision': 0.9390962671905697, 'recall': 0.9906735751295337, 'f1-score': 0.9641956631366616, 'support': 965.0}, '1': {'precision': 0.9072164948453608, 'recall': 0.5866666666666667, 'f1-score': 0.7125506072874493, 'support': 150.0}, 'accuracy': 0.9363228699551569, 'macro avg': {'precision': 0.9231563810179653, 'recall': 0.7886701208981002, 'f1-score': 0.8383731352120555, 'support': 1115.0}, 'weighted avg': {'precision': 0.9348075085791065, 'recall': 0.9363228699551569, 'f1-score': 0.9303420681793684, 'support': 1115.0}}, 'roc_auc': 0.7886701208981002, 'fpr': array([0.        , 0.00932642, 1.        ]), 'tpr': array([0.        , 0.58666667, 1.        ]), 'history': []}\n"
     ]
    },
    {
     "name": "stderr",
     "output_type": "stream",
     "text": [
      "c:\\Users\\D\\AppData\\Local\\Programs\\Python\\Python312\\Lib\\site-packages\\sklearn\\ensemble\\_weight_boosting.py:519: FutureWarning: The SAMME.R algorithm (the default) is deprecated and will be removed in 1.6. Use the SAMME algorithm to circumvent this warning.\n",
      "  warnings.warn(\n"
     ]
    },
    {
     "name": "stdout",
     "output_type": "stream",
     "text": [
      "Model: Model3\n",
      "Parameters: {'n_estimators': 50, 'name': 'Model3'}\n",
      "Metrics: {'confusion_matrix': array([[956,   9],\n",
      "       [ 62,  88]], dtype=int64), 'classification_report': {'0': {'precision': 0.9390962671905697, 'recall': 0.9906735751295337, 'f1-score': 0.9641956631366616, 'support': 965.0}, '1': {'precision': 0.9072164948453608, 'recall': 0.5866666666666667, 'f1-score': 0.7125506072874493, 'support': 150.0}, 'accuracy': 0.9363228699551569, 'macro avg': {'precision': 0.9231563810179653, 'recall': 0.7886701208981002, 'f1-score': 0.8383731352120555, 'support': 1115.0}, 'weighted avg': {'precision': 0.9348075085791065, 'recall': 0.9363228699551569, 'f1-score': 0.9303420681793684, 'support': 1115.0}}, 'roc_auc': 0.7886701208981002, 'fpr': array([0.        , 0.00932642, 1.        ]), 'tpr': array([0.        , 0.58666667, 1.        ]), 'history': []}\n"
     ]
    },
    {
     "name": "stderr",
     "output_type": "stream",
     "text": [
      "c:\\Users\\D\\AppData\\Local\\Programs\\Python\\Python312\\Lib\\site-packages\\sklearn\\ensemble\\_weight_boosting.py:519: FutureWarning: The SAMME.R algorithm (the default) is deprecated and will be removed in 1.6. Use the SAMME algorithm to circumvent this warning.\n",
      "  warnings.warn(\n"
     ]
    },
    {
     "name": "stdout",
     "output_type": "stream",
     "text": [
      "Model: Model4\n",
      "Parameters: {'n_estimators': 100, 'name': 'Model4'}\n",
      "Metrics: {'confusion_matrix': array([[956,   9],\n",
      "       [ 62,  88]], dtype=int64), 'classification_report': {'0': {'precision': 0.9390962671905697, 'recall': 0.9906735751295337, 'f1-score': 0.9641956631366616, 'support': 965.0}, '1': {'precision': 0.9072164948453608, 'recall': 0.5866666666666667, 'f1-score': 0.7125506072874493, 'support': 150.0}, 'accuracy': 0.9363228699551569, 'macro avg': {'precision': 0.9231563810179653, 'recall': 0.7886701208981002, 'f1-score': 0.8383731352120555, 'support': 1115.0}, 'weighted avg': {'precision': 0.9348075085791065, 'recall': 0.9363228699551569, 'f1-score': 0.9303420681793684, 'support': 1115.0}}, 'roc_auc': 0.7886701208981002, 'fpr': array([0.        , 0.00932642, 1.        ]), 'tpr': array([0.        , 0.58666667, 1.        ]), 'history': []}\n"
     ]
    }
   ],
   "source": [
    "from sklearn.ensemble import AdaBoostClassifier\n",
    "\n",
    "def make_model(\n",
    "        name,\n",
    "        n_estimators,\n",
    "    ):\n",
    "    model = AdaBoostClassifier(\n",
    "        n_estimators=10\n",
    "    )\n",
    "    return model\n",
    "\n",
    "param_grid = {\n",
    "    'n_estimators' : [10,20,30,50,100],\n",
    "}\n",
    "\n",
    "r3 = grid_search(param_grid, make_model, X_train, y_train , X_test , y_test, train_f )"
   ]
  },
  {
   "cell_type": "code",
   "execution_count": 13,
   "metadata": {},
   "outputs": [
    {
     "name": "stdout",
     "output_type": "stream",
     "text": [
      "[({'n_estimators': 10, 'name': 'Model0'}, 0.9363228699551569),\n",
      " ({'n_estimators': 20, 'name': 'Model1'}, 0.9363228699551569),\n",
      " ({'n_estimators': 30, 'name': 'Model2'}, 0.9363228699551569),\n",
      " ({'n_estimators': 50, 'name': 'Model3'}, 0.9363228699551569),\n",
      " ({'n_estimators': 100, 'name': 'Model4'}, 0.9363228699551569)]\n"
     ]
    }
   ],
   "source": [
    "from pprint import pprint\n",
    "\n",
    "r3.sort(key=lambda x: x[2][\"classification_report\"][\"accuracy\"], reverse=True)\n",
    "pprint([ (params , metrics[\"classification_report\"][\"accuracy\"]) for model, params, metrics in r3])"
   ]
  },
  {
   "cell_type": "code",
   "execution_count": 14,
   "metadata": {},
   "outputs": [
    {
     "name": "stdout",
     "output_type": "stream",
     "text": [
      "Grid size: 4\n",
      "Model: Model0\n",
      "Parameters: {'max_depth': 10, 'name': 'Model0'}\n",
      "Metrics: {'confusion_matrix': array([[962,   3],\n",
      "       [ 43, 107]], dtype=int64), 'classification_report': {'0': {'precision': 0.9572139303482587, 'recall': 0.9968911917098445, 'f1-score': 0.9766497461928934, 'support': 965.0}, '1': {'precision': 0.9727272727272728, 'recall': 0.7133333333333334, 'f1-score': 0.823076923076923, 'support': 150.0}, 'accuracy': 0.9587443946188341, 'macro avg': {'precision': 0.9649706015377657, 'recall': 0.855112262521589, 'f1-score': 0.8998633346349082, 'support': 1115.0}, 'weighted avg': {'precision': 0.9593009270808616, 'recall': 0.9587443946188341, 'f1-score': 0.9559897251459019, 'support': 1115.0}}, 'roc_auc': 0.855112262521589, 'fpr': array([0.        , 0.00310881, 1.        ]), 'tpr': array([0.        , 0.71333333, 1.        ]), 'history': []}\n",
      "Model: Model1\n",
      "Parameters: {'max_depth': 20, 'name': 'Model1'}\n",
      "Metrics: {'confusion_matrix': array([[962,   3],\n",
      "       [ 27, 123]], dtype=int64), 'classification_report': {'0': {'precision': 0.9726996966632963, 'recall': 0.9968911917098445, 'f1-score': 0.984646878198567, 'support': 965.0}, '1': {'precision': 0.9761904761904762, 'recall': 0.82, 'f1-score': 0.8913043478260869, 'support': 150.0}, 'accuracy': 0.9730941704035875, 'macro avg': {'precision': 0.9744450864268862, 'recall': 0.9084455958549222, 'f1-score': 0.9379756130123269, 'support': 1115.0}, 'weighted avg': {'precision': 0.9731693082588809, 'recall': 0.9730941704035875, 'f1-score': 0.9720895871170674, 'support': 1115.0}}, 'roc_auc': 0.9084455958549221, 'fpr': array([0.        , 0.00310881, 1.        ]), 'tpr': array([0.  , 0.82, 1.  ]), 'history': []}\n",
      "Model: Model2\n",
      "Parameters: {'max_depth': 30, 'name': 'Model2'}\n",
      "Metrics: {'confusion_matrix': array([[958,   7],\n",
      "       [ 24, 126]], dtype=int64), 'classification_report': {'0': {'precision': 0.9755600814663951, 'recall': 0.9927461139896373, 'f1-score': 0.9840780688238315, 'support': 965.0}, '1': {'precision': 0.9473684210526315, 'recall': 0.84, 'f1-score': 0.8904593639575972, 'support': 150.0}, 'accuracy': 0.9721973094170404, 'macro avg': {'precision': 0.9614642512595133, 'recall': 0.9163730569948186, 'f1-score': 0.9372687163907143, 'support': 1115.0}, 'weighted avg': {'precision': 0.9717674814107318, 'recall': 0.9721973094170404, 'f1-score': 0.971483624222993, 'support': 1115.0}}, 'roc_auc': 0.9163730569948185, 'fpr': array([0.        , 0.00725389, 1.        ]), 'tpr': array([0.  , 0.84, 1.  ]), 'history': []}\n",
      "Model: Model3\n",
      "Parameters: {'max_depth': 50, 'name': 'Model3'}\n",
      "Metrics: {'confusion_matrix': array([[955,  10],\n",
      "       [ 25, 125]], dtype=int64), 'classification_report': {'0': {'precision': 0.9744897959183674, 'recall': 0.9896373056994818, 'f1-score': 0.9820051413881749, 'support': 965.0}, '1': {'precision': 0.9259259259259259, 'recall': 0.8333333333333334, 'f1-score': 0.8771929824561403, 'support': 150.0}, 'accuracy': 0.968609865470852, 'macro avg': {'precision': 0.9502078609221467, 'recall': 0.9114853195164077, 'f1-score': 0.9295990619221576, 'support': 1115.0}, 'weighted avg': {'precision': 0.9679565398655724, 'recall': 0.968609865470852, 'f1-score': 0.9679048509488878, 'support': 1115.0}}, 'roc_auc': 0.9114853195164077, 'fpr': array([0.        , 0.01036269, 1.        ]), 'tpr': array([0.        , 0.83333333, 1.        ]), 'history': []}\n"
     ]
    }
   ],
   "source": [
    "from sklearn.tree import DecisionTreeClassifier\n",
    "\n",
    "def make_model(\n",
    "        name,\n",
    "        max_depth,\n",
    "    ):\n",
    "    model = DecisionTreeClassifier(\n",
    "        max_depth=max_depth\n",
    "    )\n",
    "    return model\n",
    "\n",
    "param_grid = {\n",
    "    'max_depth' : [10,20,30,50],\n",
    "}\n",
    "\n",
    "r4 = grid_search(param_grid, make_model, X_train, y_train , X_test , y_test, train_f )"
   ]
  },
  {
   "cell_type": "code",
   "execution_count": 15,
   "metadata": {},
   "outputs": [
    {
     "name": "stdout",
     "output_type": "stream",
     "text": [
      "[({'max_depth': 20, 'name': 'Model1'}, 0.9730941704035875),\n",
      " ({'max_depth': 30, 'name': 'Model2'}, 0.9721973094170404),\n",
      " ({'max_depth': 50, 'name': 'Model3'}, 0.968609865470852),\n",
      " ({'max_depth': 10, 'name': 'Model0'}, 0.9587443946188341)]\n"
     ]
    }
   ],
   "source": [
    "from pprint import pprint\n",
    "\n",
    "r4.sort(key=lambda x: x[2][\"classification_report\"][\"accuracy\"], reverse=True)\n",
    "pprint([ (params , metrics[\"classification_report\"][\"accuracy\"]) for model, params, metrics in r4])"
   ]
  },
  {
   "cell_type": "code",
   "execution_count": 17,
   "metadata": {},
   "outputs": [
    {
     "name": "stdout",
     "output_type": "stream",
     "text": [
      "Grid size: 5\n"
     ]
    },
    {
     "name": "stderr",
     "output_type": "stream",
     "text": [
      "c:\\Users\\D\\AppData\\Local\\Programs\\Python\\Python312\\Lib\\site-packages\\sklearn\\metrics\\_classification.py:1509: UndefinedMetricWarning: Precision is ill-defined and being set to 0.0 in labels with no predicted samples. Use `zero_division` parameter to control this behavior.\n",
      "  _warn_prf(average, modifier, f\"{metric.capitalize()} is\", len(result))\n",
      "c:\\Users\\D\\AppData\\Local\\Programs\\Python\\Python312\\Lib\\site-packages\\sklearn\\metrics\\_classification.py:1509: UndefinedMetricWarning: Precision is ill-defined and being set to 0.0 in labels with no predicted samples. Use `zero_division` parameter to control this behavior.\n",
      "  _warn_prf(average, modifier, f\"{metric.capitalize()} is\", len(result))\n",
      "c:\\Users\\D\\AppData\\Local\\Programs\\Python\\Python312\\Lib\\site-packages\\sklearn\\metrics\\_classification.py:1509: UndefinedMetricWarning: Precision is ill-defined and being set to 0.0 in labels with no predicted samples. Use `zero_division` parameter to control this behavior.\n",
      "  _warn_prf(average, modifier, f\"{metric.capitalize()} is\", len(result))\n"
     ]
    },
    {
     "name": "stdout",
     "output_type": "stream",
     "text": [
      "Model: Model0\n",
      "Parameters: {'C': 0.1, 'gamma': 3, 'name': 'Model0'}\n",
      "Metrics: {'confusion_matrix': array([[965,   0],\n",
      "       [150,   0]], dtype=int64), 'classification_report': {'0': {'precision': 0.8654708520179372, 'recall': 1.0, 'f1-score': 0.9278846153846154, 'support': 965.0}, '1': {'precision': 0.0, 'recall': 0.0, 'f1-score': 0.0, 'support': 150.0}, 'accuracy': 0.8654708520179372, 'macro avg': {'precision': 0.4327354260089686, 'recall': 0.5, 'f1-score': 0.4639423076923077, 'support': 1115.0}, 'weighted avg': {'precision': 0.7490397956926541, 'recall': 0.8654708520179372, 'f1-score': 0.8030570886512591, 'support': 1115.0}}, 'roc_auc': 0.5, 'fpr': array([0., 1.]), 'tpr': array([0., 1.]), 'history': []}\n",
      "Model: Model1\n",
      "Parameters: {'C': 0.5, 'gamma': 3, 'name': 'Model1'}\n",
      "Metrics: {'confusion_matrix': array([[965,   0],\n",
      "       [128,  22]], dtype=int64), 'classification_report': {'0': {'precision': 0.8828911253430924, 'recall': 1.0, 'f1-score': 0.9378036929057337, 'support': 965.0}, '1': {'precision': 1.0, 'recall': 0.14666666666666667, 'f1-score': 0.2558139534883721, 'support': 150.0}, 'accuracy': 0.885201793721973, 'macro avg': {'precision': 0.9414455626715462, 'recall': 0.5733333333333334, 'f1-score': 0.596808823197053, 'support': 1115.0}, 'weighted avg': {'precision': 0.8986456824718244, 'recall': 0.885201793721973, 'f1-score': 0.846056194329407, 'support': 1115.0}}, 'roc_auc': 0.5733333333333334, 'fpr': array([0., 0., 1.]), 'tpr': array([0.        , 0.14666667, 1.        ]), 'history': []}\n",
      "Model: Model2\n",
      "Parameters: {'C': 1, 'gamma': 3, 'name': 'Model2'}\n",
      "Metrics: {'confusion_matrix': array([[965,   0],\n",
      "       [ 81,  69]], dtype=int64), 'classification_report': {'0': {'precision': 0.9225621414913958, 'recall': 1.0, 'f1-score': 0.9597215315763302, 'support': 965.0}, '1': {'precision': 1.0, 'recall': 0.46, 'f1-score': 0.6301369863013698, 'support': 150.0}, 'accuracy': 0.9273542600896861, 'macro avg': {'precision': 0.9612810707456979, 'recall': 0.73, 'f1-score': 0.79492925893885, 'support': 1115.0}, 'weighted avg': {'precision': 0.9329797906181139, 'recall': 0.9273542600896861, 'f1-score': 0.9153828035124342, 'support': 1115.0}}, 'roc_auc': 0.73, 'fpr': array([0., 0., 1.]), 'tpr': array([0.  , 0.46, 1.  ]), 'history': []}\n",
      "Model: Model3\n",
      "Parameters: {'C': 10, 'gamma': 3, 'name': 'Model3'}\n",
      "Metrics: {'confusion_matrix': array([[965,   0],\n",
      "       [ 77,  73]], dtype=int64), 'classification_report': {'0': {'precision': 0.9261036468330134, 'recall': 1.0, 'f1-score': 0.9616342800199302, 'support': 965.0}, '1': {'precision': 1.0, 'recall': 0.4866666666666667, 'f1-score': 0.6547085201793722, 'support': 150.0}, 'accuracy': 0.9309417040358744, 'macro avg': {'precision': 0.9630518234165066, 'recall': 0.7433333333333334, 'f1-score': 0.8081714000996512, 'support': 1115.0}, 'weighted avg': {'precision': 0.9360448602635498, 'recall': 0.9309417040358744, 'f1-score': 0.9203438190548329, 'support': 1115.0}}, 'roc_auc': 0.7433333333333334, 'fpr': array([0., 0., 1.]), 'tpr': array([0.        , 0.48666667, 1.        ]), 'history': []}\n",
      "Model: Model4\n",
      "Parameters: {'C': 100, 'gamma': 3, 'name': 'Model4'}\n",
      "Metrics: {'confusion_matrix': array([[965,   0],\n",
      "       [ 77,  73]], dtype=int64), 'classification_report': {'0': {'precision': 0.9261036468330134, 'recall': 1.0, 'f1-score': 0.9616342800199302, 'support': 965.0}, '1': {'precision': 1.0, 'recall': 0.4866666666666667, 'f1-score': 0.6547085201793722, 'support': 150.0}, 'accuracy': 0.9309417040358744, 'macro avg': {'precision': 0.9630518234165066, 'recall': 0.7433333333333334, 'f1-score': 0.8081714000996512, 'support': 1115.0}, 'weighted avg': {'precision': 0.9360448602635498, 'recall': 0.9309417040358744, 'f1-score': 0.9203438190548329, 'support': 1115.0}}, 'roc_auc': 0.7433333333333334, 'fpr': array([0., 0., 1.]), 'tpr': array([0.        , 0.48666667, 1.        ]), 'history': []}\n"
     ]
    }
   ],
   "source": [
    "from sklearn.svm import SVC\n",
    "\n",
    "def make_model(\n",
    "        name,\n",
    "        C,\n",
    "        gamma\n",
    "    ):\n",
    "    model = SVC(\n",
    "        C=C,\n",
    "        gamma=gamma\n",
    "    )\n",
    "    return model\n",
    "\n",
    "param_grid = {\n",
    "    'C' : [0.1,0.5,1,10,100],\n",
    "    'gamma' : [3]\n",
    "}\n",
    "\n",
    "r5 = grid_search(param_grid, make_model, X_train, y_train , X_test , y_test, train_f )"
   ]
  },
  {
   "cell_type": "code",
   "execution_count": 18,
   "metadata": {},
   "outputs": [
    {
     "name": "stdout",
     "output_type": "stream",
     "text": [
      "[({'C': 10, 'gamma': 3, 'name': 'Model3'}, 0.9309417040358744),\n",
      " ({'C': 100, 'gamma': 3, 'name': 'Model4'}, 0.9309417040358744),\n",
      " ({'C': 1, 'gamma': 3, 'name': 'Model2'}, 0.9273542600896861),\n",
      " ({'C': 0.5, 'gamma': 3, 'name': 'Model1'}, 0.885201793721973),\n",
      " ({'C': 0.1, 'gamma': 3, 'name': 'Model0'}, 0.8654708520179372)]\n"
     ]
    }
   ],
   "source": [
    "from pprint import pprint\n",
    "\n",
    "r5.sort(key=lambda x: x[2][\"classification_report\"][\"accuracy\"], reverse=True)\n",
    "pprint([ (params , metrics[\"classification_report\"][\"accuracy\"]) for model, params, metrics in r5])"
   ]
  },
  {
   "cell_type": "code",
   "execution_count": 19,
   "metadata": {},
   "outputs": [
    {
     "name": "stdout",
     "output_type": "stream",
     "text": [
      "Grid size: 4\n"
     ]
    },
    {
     "name": "stderr",
     "output_type": "stream",
     "text": [
      "c:\\Users\\D\\AppData\\Local\\Programs\\Python\\Python312\\Lib\\site-packages\\sklearn\\discriminant_analysis.py:935: UserWarning: Variables are collinear\n",
      "  warnings.warn(\"Variables are collinear\")\n"
     ]
    },
    {
     "name": "stdout",
     "output_type": "stream",
     "text": [
      "Model: Model0\n",
      "Parameters: {'reg_param': 0, 'name': 'Model0'}\n",
      "Metrics: {'confusion_matrix': array([[484, 481],\n",
      "       [  1, 149]], dtype=int64), 'classification_report': {'0': {'precision': 0.9979381443298969, 'recall': 0.5015544041450777, 'f1-score': 0.6675862068965517, 'support': 965.0}, '1': {'precision': 0.2365079365079365, 'recall': 0.9933333333333333, 'f1-score': 0.382051282051282, 'support': 150.0}, 'accuracy': 0.567713004484305, 'macro avg': {'precision': 0.6172230404189167, 'recall': 0.7474438687392055, 'f1-score': 0.5248187444739169, 'support': 1115.0}, 'weighted avg': {'precision': 0.8955035872238036, 'recall': 0.567713004484305, 'f1-score': 0.6291734367379952, 'support': 1115.0}}, 'roc_auc': 0.7474438687392054, 'fpr': array([0.       , 0.4984456, 1.       ]), 'tpr': array([0.        , 0.99333333, 1.        ]), 'history': []}\n"
     ]
    },
    {
     "name": "stderr",
     "output_type": "stream",
     "text": [
      "c:\\Users\\D\\AppData\\Local\\Programs\\Python\\Python312\\Lib\\site-packages\\sklearn\\discriminant_analysis.py:935: UserWarning: Variables are collinear\n",
      "  warnings.warn(\"Variables are collinear\")\n",
      "c:\\Users\\D\\AppData\\Local\\Programs\\Python\\Python312\\Lib\\site-packages\\sklearn\\metrics\\_classification.py:1509: UndefinedMetricWarning: Precision is ill-defined and being set to 0.0 in labels with no predicted samples. Use `zero_division` parameter to control this behavior.\n",
      "  _warn_prf(average, modifier, f\"{metric.capitalize()} is\", len(result))\n",
      "c:\\Users\\D\\AppData\\Local\\Programs\\Python\\Python312\\Lib\\site-packages\\sklearn\\metrics\\_classification.py:1509: UndefinedMetricWarning: Precision is ill-defined and being set to 0.0 in labels with no predicted samples. Use `zero_division` parameter to control this behavior.\n",
      "  _warn_prf(average, modifier, f\"{metric.capitalize()} is\", len(result))\n",
      "c:\\Users\\D\\AppData\\Local\\Programs\\Python\\Python312\\Lib\\site-packages\\sklearn\\metrics\\_classification.py:1509: UndefinedMetricWarning: Precision is ill-defined and being set to 0.0 in labels with no predicted samples. Use `zero_division` parameter to control this behavior.\n",
      "  _warn_prf(average, modifier, f\"{metric.capitalize()} is\", len(result))\n"
     ]
    },
    {
     "name": "stdout",
     "output_type": "stream",
     "text": [
      "Model: Model1\n",
      "Parameters: {'reg_param': 0.1, 'name': 'Model1'}\n",
      "Metrics: {'confusion_matrix': array([[965,   0],\n",
      "       [150,   0]], dtype=int64), 'classification_report': {'0': {'precision': 0.8654708520179372, 'recall': 1.0, 'f1-score': 0.9278846153846154, 'support': 965.0}, '1': {'precision': 0.0, 'recall': 0.0, 'f1-score': 0.0, 'support': 150.0}, 'accuracy': 0.8654708520179372, 'macro avg': {'precision': 0.4327354260089686, 'recall': 0.5, 'f1-score': 0.4639423076923077, 'support': 1115.0}, 'weighted avg': {'precision': 0.7490397956926541, 'recall': 0.8654708520179372, 'f1-score': 0.8030570886512591, 'support': 1115.0}}, 'roc_auc': 0.5, 'fpr': array([0., 1.]), 'tpr': array([0., 1.]), 'history': []}\n"
     ]
    },
    {
     "name": "stderr",
     "output_type": "stream",
     "text": [
      "c:\\Users\\D\\AppData\\Local\\Programs\\Python\\Python312\\Lib\\site-packages\\sklearn\\discriminant_analysis.py:935: UserWarning: Variables are collinear\n",
      "  warnings.warn(\"Variables are collinear\")\n",
      "c:\\Users\\D\\AppData\\Local\\Programs\\Python\\Python312\\Lib\\site-packages\\sklearn\\metrics\\_classification.py:1509: UndefinedMetricWarning: Precision is ill-defined and being set to 0.0 in labels with no predicted samples. Use `zero_division` parameter to control this behavior.\n",
      "  _warn_prf(average, modifier, f\"{metric.capitalize()} is\", len(result))\n",
      "c:\\Users\\D\\AppData\\Local\\Programs\\Python\\Python312\\Lib\\site-packages\\sklearn\\metrics\\_classification.py:1509: UndefinedMetricWarning: Precision is ill-defined and being set to 0.0 in labels with no predicted samples. Use `zero_division` parameter to control this behavior.\n",
      "  _warn_prf(average, modifier, f\"{metric.capitalize()} is\", len(result))\n",
      "c:\\Users\\D\\AppData\\Local\\Programs\\Python\\Python312\\Lib\\site-packages\\sklearn\\metrics\\_classification.py:1509: UndefinedMetricWarning: Precision is ill-defined and being set to 0.0 in labels with no predicted samples. Use `zero_division` parameter to control this behavior.\n",
      "  _warn_prf(average, modifier, f\"{metric.capitalize()} is\", len(result))\n"
     ]
    },
    {
     "name": "stdout",
     "output_type": "stream",
     "text": [
      "Model: Model2\n",
      "Parameters: {'reg_param': 0.5, 'name': 'Model2'}\n",
      "Metrics: {'confusion_matrix': array([[965,   0],\n",
      "       [150,   0]], dtype=int64), 'classification_report': {'0': {'precision': 0.8654708520179372, 'recall': 1.0, 'f1-score': 0.9278846153846154, 'support': 965.0}, '1': {'precision': 0.0, 'recall': 0.0, 'f1-score': 0.0, 'support': 150.0}, 'accuracy': 0.8654708520179372, 'macro avg': {'precision': 0.4327354260089686, 'recall': 0.5, 'f1-score': 0.4639423076923077, 'support': 1115.0}, 'weighted avg': {'precision': 0.7490397956926541, 'recall': 0.8654708520179372, 'f1-score': 0.8030570886512591, 'support': 1115.0}}, 'roc_auc': 0.5, 'fpr': array([0., 1.]), 'tpr': array([0., 1.]), 'history': []}\n"
     ]
    },
    {
     "name": "stderr",
     "output_type": "stream",
     "text": [
      "c:\\Users\\D\\AppData\\Local\\Programs\\Python\\Python312\\Lib\\site-packages\\sklearn\\discriminant_analysis.py:935: UserWarning: Variables are collinear\n",
      "  warnings.warn(\"Variables are collinear\")\n"
     ]
    },
    {
     "name": "stdout",
     "output_type": "stream",
     "text": [
      "Model: Model3\n",
      "Parameters: {'reg_param': 1, 'name': 'Model3'}\n",
      "Metrics: {'confusion_matrix': array([[965,   0],\n",
      "       [150,   0]], dtype=int64), 'classification_report': {'0': {'precision': 0.8654708520179372, 'recall': 1.0, 'f1-score': 0.9278846153846154, 'support': 965.0}, '1': {'precision': 0.0, 'recall': 0.0, 'f1-score': 0.0, 'support': 150.0}, 'accuracy': 0.8654708520179372, 'macro avg': {'precision': 0.4327354260089686, 'recall': 0.5, 'f1-score': 0.4639423076923077, 'support': 1115.0}, 'weighted avg': {'precision': 0.7490397956926541, 'recall': 0.8654708520179372, 'f1-score': 0.8030570886512591, 'support': 1115.0}}, 'roc_auc': 0.5, 'fpr': array([0., 1.]), 'tpr': array([0., 1.]), 'history': []}\n"
     ]
    },
    {
     "name": "stderr",
     "output_type": "stream",
     "text": [
      "c:\\Users\\D\\AppData\\Local\\Programs\\Python\\Python312\\Lib\\site-packages\\sklearn\\metrics\\_classification.py:1509: UndefinedMetricWarning: Precision is ill-defined and being set to 0.0 in labels with no predicted samples. Use `zero_division` parameter to control this behavior.\n",
      "  _warn_prf(average, modifier, f\"{metric.capitalize()} is\", len(result))\n",
      "c:\\Users\\D\\AppData\\Local\\Programs\\Python\\Python312\\Lib\\site-packages\\sklearn\\metrics\\_classification.py:1509: UndefinedMetricWarning: Precision is ill-defined and being set to 0.0 in labels with no predicted samples. Use `zero_division` parameter to control this behavior.\n",
      "  _warn_prf(average, modifier, f\"{metric.capitalize()} is\", len(result))\n",
      "c:\\Users\\D\\AppData\\Local\\Programs\\Python\\Python312\\Lib\\site-packages\\sklearn\\metrics\\_classification.py:1509: UndefinedMetricWarning: Precision is ill-defined and being set to 0.0 in labels with no predicted samples. Use `zero_division` parameter to control this behavior.\n",
      "  _warn_prf(average, modifier, f\"{metric.capitalize()} is\", len(result))\n"
     ]
    }
   ],
   "source": [
    "from sklearn.discriminant_analysis import QuadraticDiscriminantAnalysis\n",
    "def make_model(\n",
    "        name,\n",
    "        reg_param,\n",
    "    ):\n",
    "    model = QuadraticDiscriminantAnalysis(\n",
    "        reg_param=reg_param\n",
    "    )\n",
    "    return model\n",
    "\n",
    "param_grid = {\n",
    "    'reg_param' : [0,0.1,0.5,1],\n",
    "}\n",
    "\n",
    "r6 = grid_search(param_grid, make_model, X_train, y_train , X_test , y_test, train_f )"
   ]
  },
  {
   "cell_type": "code",
   "execution_count": 20,
   "metadata": {},
   "outputs": [
    {
     "name": "stdout",
     "output_type": "stream",
     "text": [
      "[({'name': 'Model1', 'reg_param': 0.1}, 0.8654708520179372),\n",
      " ({'name': 'Model2', 'reg_param': 0.5}, 0.8654708520179372),\n",
      " ({'name': 'Model3', 'reg_param': 1}, 0.8654708520179372),\n",
      " ({'name': 'Model0', 'reg_param': 0}, 0.567713004484305)]\n"
     ]
    }
   ],
   "source": [
    "from pprint import pprint\n",
    "\n",
    "r6.sort(key=lambda x: x[2][\"classification_report\"][\"accuracy\"], reverse=True)\n",
    "pprint([ (params , metrics[\"classification_report\"][\"accuracy\"]) for model, params, metrics in r6])"
   ]
  },
  {
   "cell_type": "code",
   "execution_count": 32,
   "metadata": {},
   "outputs": [
    {
     "data": {
      "image/png": "[encoded data removed]",
      "text/plain": [
       "<Figure size 640x480 with 1 Axes>"
      ]
     },
     "metadata": {},
     "output_type": "display_data"
    }
   ],
   "source": [
    "best_models = [\n",
    "    r[0],\n",
    "    r2[0],\n",
    "    r3[0],\n",
    "    r4[0],\n",
    "    r5[0],\n",
    "    r6[0],\n",
    "]\n",
    "\n",
    "import matplotlib.pyplot as plt\n",
    "\n",
    "# Example data\n",
    "models = [ str(type(m).__name__) for m , _ , _ in best_models]\n",
    "accuracies = [ m[\"classification_report\"][\"accuracy\"] for _ , _ , m in best_models]\n",
    "\n",
    "plt.bar(models,accuracies, color='skyblue')\n",
    "plt.xlabel('Models')\n",
    "plt.ylabel('Accuracy')\n",
    "plt.title('Model Accuracy Comparison')\n",
    "plt.ylim([0.8, 1])\n",
    "plt.xticks(rotation=45)\n",
    "plt.grid(axis='y')\n",
    "plt.show()\n",
    "\n"
   ]
  }
 ],
 "metadata": {
  "kernelspec": {
   "display_name": "Python 3",
   "language": "python",
   "name": "python3"
  },
  "language_info": {
   "codemirror_mode": {
    "name": "ipython",
    "version": 3
   },
   "file_extension": ".py",
   "mimetype": "text/x-python",
   "name": "python",
   "nbconvert_exporter": "python",
   "pygments_lexer": "ipython3",
   "version": "3.12.2"
  }
 },
 "nbformat": 4,
 "nbformat_minor": 2
}
